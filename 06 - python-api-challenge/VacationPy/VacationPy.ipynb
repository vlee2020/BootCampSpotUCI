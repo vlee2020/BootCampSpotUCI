{
 "cells": [
  {
   "cell_type": "markdown",
   "metadata": {},
   "source": [
    "# VacationPy\n",
    "----\n",
    "\n",
    "#### Note\n",
    "* Keep an eye on your API usage. Use https://developers.google.com/maps/reporting/gmp-reporting as reference for how to monitor your usage and billing.\n",
    "\n",
    "* Instructions have been included for each segment. You do not have to follow them exactly, but they are included to help you think through the steps."
   ]
  },
  {
   "cell_type": "code",
   "execution_count": 15,
   "metadata": {},
   "outputs": [
    {
     "name": "stdout",
     "output_type": "stream",
     "text": [
      "Requirement already satisfied: citipy in c:\\users\\findv\\anaconda3\\envs\\pythondata\\lib\\site-packages (0.0.5)\n",
      "Requirement already satisfied: kdtree>=0.12 in c:\\users\\findv\\anaconda3\\envs\\pythondata\\lib\\site-packages (from citipy) (0.16)\n"
     ]
    }
   ],
   "source": [
    "!pip install citipy\n",
    "\n",
    "# Dependencies and Setup\n",
    "import matplotlib.pyplot as plt\n",
    "import pandas as pd\n",
    "import numpy as np\n",
    "import requests\n",
    "import gmaps\n",
    "import os\n",
    "import json\n",
    "from citipy import citipy \n",
    "from config import g_key\n",
    "\n",
    "hotel_url = 'https://maps.googleapis.com/maps/api/place/nearbysearch/json?'\n",
    "\n",
    "# Hotel Parameters\n",
    "target_radius = 5000\n",
    "target_type = 'hotel'\n",
    "target_search = 'hotel'"
   ]
  },
  {
   "cell_type": "markdown",
   "metadata": {},
   "source": [
    "### Store Part I results into DataFrame\n",
    "* Load the csv exported in Part I to a DataFrame"
   ]
  },
  {
   "cell_type": "code",
   "execution_count": 16,
   "metadata": {},
   "outputs": [],
   "source": [
    "# Reference WeatherPy city data file for this assignment\n",
    "weatherpy_data = pd.read_csv('../Output/clean_citydata_flat.csv')\n",
    "city_data_df = pd.DataFrame(weatherpy_data)\n",
    "\n",
    "\n"
   ]
  },
  {
   "cell_type": "markdown",
   "metadata": {},
   "source": [
    "### Humidity Heatmap\n",
    "* Configure gmaps.\n",
    "* Use the Lat and Lng as locations and Humidity as the weight.\n",
    "* Add Heatmap layer to map."
   ]
  },
  {
   "cell_type": "code",
   "execution_count": 17,
   "metadata": {},
   "outputs": [],
   "source": [
    "#Configure gmaps\n",
    "gmaps.configure(api_key=g_key)\n"
   ]
  },
  {
   "cell_type": "code",
   "execution_count": 18,
   "metadata": {},
   "outputs": [
    {
     "data": {
      "application/vnd.jupyter.widget-view+json": {
       "model_id": "3c95e0e755a14946b433dbc0525f3a5c",
       "version_major": 2,
       "version_minor": 0
      },
      "text/plain": [
       "Figure(layout=FigureLayout(height='420px'))"
      ]
     },
     "metadata": {},
     "output_type": "display_data"
    }
   ],
   "source": [
    "# REMEMBER to handle NaN values\n",
    "city_data_df = city_data_df.dropna()\n",
    "temperature = city_data_df[\"temp_max\"].astype(float)\n",
    "locations = city_data_df[[\"latitude\", \"longitude\"]].astype(float)\n",
    "cloudiness = city_data_df[\"cloudiness\"].astype(float)\n",
    "\n",
    "# Create a poverty Heatmap layer\n",
    "fig = gmaps.figure()\n",
    "\n",
    "heat_layer = gmaps.heatmap_layer(locations, weights=temperature, \n",
    "                                 dissipating=False, max_intensity=100,\n",
    "                                 point_radius = 1)\n",
    "\n",
    "fig.add_layer(heat_layer)\n",
    "\n",
    "fig"
   ]
  },
  {
   "cell_type": "markdown",
   "metadata": {},
   "source": [
    "### Create new DataFrame fitting weather criteria\n",
    "* Narrow down the cities to fit weather conditions.\n",
    "* Drop any rows will null values."
   ]
  },
  {
   "cell_type": "code",
   "execution_count": 19,
   "metadata": {},
   "outputs": [
    {
     "name": "stdout",
     "output_type": "stream",
     "text": [
      "51\n"
     ]
    },
    {
     "data": {
      "text/html": [
       "<div>\n",
       "<style scoped>\n",
       "    .dataframe tbody tr th:only-of-type {\n",
       "        vertical-align: middle;\n",
       "    }\n",
       "\n",
       "    .dataframe tbody tr th {\n",
       "        vertical-align: top;\n",
       "    }\n",
       "\n",
       "    .dataframe thead th {\n",
       "        text-align: right;\n",
       "    }\n",
       "</style>\n",
       "<table border=\"1\" class=\"dataframe\">\n",
       "  <thead>\n",
       "    <tr style=\"text-align: right;\">\n",
       "      <th></th>\n",
       "      <th>id</th>\n",
       "      <th>name</th>\n",
       "      <th>country</th>\n",
       "      <th>latitude</th>\n",
       "      <th>longitude</th>\n",
       "      <th>temp</th>\n",
       "      <th>temp_max</th>\n",
       "      <th>temp_min</th>\n",
       "      <th>humidity</th>\n",
       "      <th>cloudiness</th>\n",
       "      <th>wind_speed</th>\n",
       "    </tr>\n",
       "  </thead>\n",
       "  <tbody>\n",
       "    <tr>\n",
       "      <th>0</th>\n",
       "      <td>4030556</td>\n",
       "      <td>Rikitea</td>\n",
       "      <td>PF</td>\n",
       "      <td>-23.12</td>\n",
       "      <td>-134.97</td>\n",
       "      <td>74.08</td>\n",
       "      <td>74.08</td>\n",
       "      <td>74.08</td>\n",
       "      <td>75.0</td>\n",
       "      <td>24</td>\n",
       "      <td>9.31</td>\n",
       "    </tr>\n",
       "    <tr>\n",
       "      <th>1</th>\n",
       "      <td>876177</td>\n",
       "      <td>Luau</td>\n",
       "      <td>AO</td>\n",
       "      <td>-10.71</td>\n",
       "      <td>22.22</td>\n",
       "      <td>65.73</td>\n",
       "      <td>65.73</td>\n",
       "      <td>65.73</td>\n",
       "      <td>73.0</td>\n",
       "      <td>4</td>\n",
       "      <td>2.93</td>\n",
       "    </tr>\n",
       "    <tr>\n",
       "      <th>2</th>\n",
       "      <td>2324857</td>\n",
       "      <td>Pindiga</td>\n",
       "      <td>NG</td>\n",
       "      <td>9.98</td>\n",
       "      <td>10.93</td>\n",
       "      <td>71.42</td>\n",
       "      <td>71.42</td>\n",
       "      <td>71.42</td>\n",
       "      <td>77.0</td>\n",
       "      <td>0</td>\n",
       "      <td>3.47</td>\n",
       "    </tr>\n",
       "    <tr>\n",
       "      <th>3</th>\n",
       "      <td>2389804</td>\n",
       "      <td>Baoro</td>\n",
       "      <td>CF</td>\n",
       "      <td>5.67</td>\n",
       "      <td>15.97</td>\n",
       "      <td>67.84</td>\n",
       "      <td>67.84</td>\n",
       "      <td>67.84</td>\n",
       "      <td>80.0</td>\n",
       "      <td>6</td>\n",
       "      <td>1.32</td>\n",
       "    </tr>\n",
       "    <tr>\n",
       "      <th>4</th>\n",
       "      <td>934479</td>\n",
       "      <td>Grand Gaube</td>\n",
       "      <td>MU</td>\n",
       "      <td>-20.01</td>\n",
       "      <td>57.66</td>\n",
       "      <td>75.00</td>\n",
       "      <td>75.00</td>\n",
       "      <td>75.00</td>\n",
       "      <td>71.0</td>\n",
       "      <td>0</td>\n",
       "      <td>7.00</td>\n",
       "    </tr>\n",
       "  </tbody>\n",
       "</table>\n",
       "</div>"
      ],
      "text/plain": [
       "        id         name country  latitude  longitude   temp  temp_max  \\\n",
       "0  4030556      Rikitea      PF    -23.12    -134.97  74.08     74.08   \n",
       "1   876177         Luau      AO    -10.71      22.22  65.73     65.73   \n",
       "2  2324857      Pindiga      NG      9.98      10.93  71.42     71.42   \n",
       "3  2389804        Baoro      CF      5.67      15.97  67.84     67.84   \n",
       "4   934479  Grand Gaube      MU    -20.01      57.66  75.00     75.00   \n",
       "\n",
       "   temp_min  humidity  cloudiness  wind_speed  \n",
       "0     74.08      75.0          24        9.31  \n",
       "1     65.73      73.0           4        2.93  \n",
       "2     71.42      77.0           0        3.47  \n",
       "3     67.84      80.0           6        1.32  \n",
       "4     75.00      71.0           0        7.00  "
      ]
     },
     "execution_count": 19,
     "metadata": {},
     "output_type": "execute_result"
    }
   ],
   "source": [
    "# My ideal weather conditions:  max_temp betwen 70-80 degrees, wind_speed < 10 mph, cloudiness = 25%\n",
    "\n",
    "my_vacation_df = city_data_df[\n",
    "                (city_data_df['temp_min']>=65) &\n",
    "                (city_data_df['temp_max']<=80) &\n",
    "                (city_data_df['wind_speed']<=12) &\n",
    "                (city_data_df['cloudiness']<=25)]\n",
    "\n",
    "print(len(my_vacation_df))\n",
    "my_vacation_df = my_vacation_df.reset_index(drop=True)\n",
    "my_vacation_df.head()\n"
   ]
  },
  {
   "cell_type": "markdown",
   "metadata": {},
   "source": [
    "### Hotel Map\n",
    "* Store into variable named `hotel_df`.\n",
    "* Add a \"Hotel Name\" column to the DataFrame.\n",
    "* Set parameters to search for hotels with 5000 meters.\n",
    "* Hit the Google Places API for each city's coordinates.\n",
    "* Store the first Hotel result into the DataFrame.\n",
    "* Plot markers on top of the heatmap."
   ]
  },
  {
   "cell_type": "code",
   "execution_count": 20,
   "metadata": {},
   "outputs": [],
   "source": [
    "my_vacation_df.loc[:,\"coordinates\"] = my_vacation_df.loc[:,\"latitude\"].astype(str) +\",\" + my_vacation_df.loc[:,\"longitude\"].astype(str)"
   ]
  },
  {
   "cell_type": "code",
   "execution_count": 21,
   "metadata": {},
   "outputs": [],
   "source": [
    "nearby_hotel = []\n",
    "\n",
    "for location in my_vacation_df['coordinates']:\n",
    "    \n",
    "    gmaps_url = f'{hotel_url}location={location}&radius={target_radius}&type={target_type}&keyword={target_search}&key={g_key}'\n",
    "    hotel_json = requests.get(gmaps_url).json()\n",
    "\n",
    "    try:\n",
    "        nearby_hotel.append(hotel_json['results'][0]['name'])\n",
    "        \n",
    "    except:\n",
    "        nearby_hotel.append(\"None nearby\")\n",
    "\n"
   ]
  },
  {
   "cell_type": "code",
   "execution_count": 22,
   "metadata": {},
   "outputs": [
    {
     "data": {
      "text/html": [
       "<div>\n",
       "<style scoped>\n",
       "    .dataframe tbody tr th:only-of-type {\n",
       "        vertical-align: middle;\n",
       "    }\n",
       "\n",
       "    .dataframe tbody tr th {\n",
       "        vertical-align: top;\n",
       "    }\n",
       "\n",
       "    .dataframe thead th {\n",
       "        text-align: right;\n",
       "    }\n",
       "</style>\n",
       "<table border=\"1\" class=\"dataframe\">\n",
       "  <thead>\n",
       "    <tr style=\"text-align: right;\">\n",
       "      <th></th>\n",
       "      <th>id</th>\n",
       "      <th>City</th>\n",
       "      <th>Country</th>\n",
       "      <th>Lat</th>\n",
       "      <th>Lng</th>\n",
       "      <th>temp</th>\n",
       "      <th>temp_max</th>\n",
       "      <th>temp_min</th>\n",
       "      <th>humidity</th>\n",
       "      <th>cloudiness</th>\n",
       "      <th>wind_speed</th>\n",
       "      <th>coordinates</th>\n",
       "      <th>Hotel Name</th>\n",
       "    </tr>\n",
       "  </thead>\n",
       "  <tbody>\n",
       "    <tr>\n",
       "      <th>0</th>\n",
       "      <td>4030556</td>\n",
       "      <td>Rikitea</td>\n",
       "      <td>PF</td>\n",
       "      <td>-23.12</td>\n",
       "      <td>-134.97</td>\n",
       "      <td>74.08</td>\n",
       "      <td>74.08</td>\n",
       "      <td>74.08</td>\n",
       "      <td>75.0</td>\n",
       "      <td>24</td>\n",
       "      <td>9.31</td>\n",
       "      <td>-23.12,-134.97</td>\n",
       "      <td>Pension Maro'i</td>\n",
       "    </tr>\n",
       "    <tr>\n",
       "      <th>1</th>\n",
       "      <td>876177</td>\n",
       "      <td>Luau</td>\n",
       "      <td>AO</td>\n",
       "      <td>-10.71</td>\n",
       "      <td>22.22</td>\n",
       "      <td>65.73</td>\n",
       "      <td>65.73</td>\n",
       "      <td>65.73</td>\n",
       "      <td>73.0</td>\n",
       "      <td>4</td>\n",
       "      <td>2.93</td>\n",
       "      <td>-10.71,22.22</td>\n",
       "      <td>Kimbo Hotel</td>\n",
       "    </tr>\n",
       "    <tr>\n",
       "      <th>2</th>\n",
       "      <td>2324857</td>\n",
       "      <td>Pindiga</td>\n",
       "      <td>NG</td>\n",
       "      <td>9.98</td>\n",
       "      <td>10.93</td>\n",
       "      <td>71.42</td>\n",
       "      <td>71.42</td>\n",
       "      <td>71.42</td>\n",
       "      <td>77.0</td>\n",
       "      <td>0</td>\n",
       "      <td>3.47</td>\n",
       "      <td>9.98,10.93</td>\n",
       "      <td>Accommodation Center</td>\n",
       "    </tr>\n",
       "    <tr>\n",
       "      <th>3</th>\n",
       "      <td>2389804</td>\n",
       "      <td>Baoro</td>\n",
       "      <td>CF</td>\n",
       "      <td>5.67</td>\n",
       "      <td>15.97</td>\n",
       "      <td>67.84</td>\n",
       "      <td>67.84</td>\n",
       "      <td>67.84</td>\n",
       "      <td>80.0</td>\n",
       "      <td>6</td>\n",
       "      <td>1.32</td>\n",
       "      <td>5.67,15.97</td>\n",
       "      <td>None nearby</td>\n",
       "    </tr>\n",
       "    <tr>\n",
       "      <th>4</th>\n",
       "      <td>934479</td>\n",
       "      <td>Grand Gaube</td>\n",
       "      <td>MU</td>\n",
       "      <td>-20.01</td>\n",
       "      <td>57.66</td>\n",
       "      <td>75.00</td>\n",
       "      <td>75.00</td>\n",
       "      <td>75.00</td>\n",
       "      <td>71.0</td>\n",
       "      <td>0</td>\n",
       "      <td>7.00</td>\n",
       "      <td>-20.01,57.66</td>\n",
       "      <td>LUX Grand Gaube Resort &amp; Villas</td>\n",
       "    </tr>\n",
       "  </tbody>\n",
       "</table>\n",
       "</div>"
      ],
      "text/plain": [
       "        id         City Country    Lat     Lng   temp  temp_max  temp_min  \\\n",
       "0  4030556      Rikitea      PF -23.12 -134.97  74.08     74.08     74.08   \n",
       "1   876177         Luau      AO -10.71   22.22  65.73     65.73     65.73   \n",
       "2  2324857      Pindiga      NG   9.98   10.93  71.42     71.42     71.42   \n",
       "3  2389804        Baoro      CF   5.67   15.97  67.84     67.84     67.84   \n",
       "4   934479  Grand Gaube      MU -20.01   57.66  75.00     75.00     75.00   \n",
       "\n",
       "   humidity  cloudiness  wind_speed     coordinates  \\\n",
       "0      75.0          24        9.31  -23.12,-134.97   \n",
       "1      73.0           4        2.93    -10.71,22.22   \n",
       "2      77.0           0        3.47      9.98,10.93   \n",
       "3      80.0           6        1.32      5.67,15.97   \n",
       "4      71.0           0        7.00    -20.01,57.66   \n",
       "\n",
       "                        Hotel Name  \n",
       "0                   Pension Maro'i  \n",
       "1                      Kimbo Hotel  \n",
       "2             Accommodation Center  \n",
       "3                      None nearby  \n",
       "4  LUX Grand Gaube Resort & Villas  "
      ]
     },
     "execution_count": 22,
     "metadata": {},
     "output_type": "execute_result"
    }
   ],
   "source": [
    "# Prep dataframe to work in fixed logic in next command box\n",
    "my_vacation_df[\"Hotel Name\"] = nearby_hotel\n",
    "\n",
    "my_vacation_df = my_vacation_df.rename(columns = {'name':'City',\n",
    "                                                  'country': 'Country',\n",
    "                                                  'latitude': 'Lat',\n",
    "                                                  'longitude': 'Lng'})\n",
    "\n",
    "my_vacation_df.head()"
   ]
  },
  {
   "cell_type": "code",
   "execution_count": 23,
   "metadata": {},
   "outputs": [],
   "source": [
    "# NOTE: Do not change any of the code in this cell\n",
    "\n",
    "# Using the template add the hotel marks to the heatmap\n",
    "info_box_template = \"\"\"\n",
    "<dl>\n",
    "<dt>Name</dt><dd>{Hotel Name}</dd>\n",
    "<dt>City</dt><dd>{City}</dd>\n",
    "<dt>Country</dt><dd>{Country}</dd>\n",
    "</dl>\n",
    "\"\"\"\n",
    "# Store the DataFrame Row\n",
    "# NOTE: be sure to update with your DataFrame name\n",
    "hotel_info = [info_box_template.format(**row) for index, row in my_vacation_df.iterrows()]\n",
    "locations = my_vacation_df[[\"Lat\", \"Lng\"]]"
   ]
  },
  {
   "cell_type": "code",
   "execution_count": 24,
   "metadata": {},
   "outputs": [
    {
     "data": {
      "application/vnd.jupyter.widget-view+json": {
       "model_id": "3c95e0e755a14946b433dbc0525f3a5c",
       "version_major": 2,
       "version_minor": 0
      },
      "text/plain": [
       "Figure(layout=FigureLayout(height='420px'))"
      ]
     },
     "metadata": {},
     "output_type": "display_data"
    }
   ],
   "source": [
    "# Add marker layer ontop of heat map and display and display\n",
    "markers = gmaps.marker_layer(locations, info_box_content = hotel_info)\n",
    "\n",
    "fig.add_layer(heat_layer)\n",
    "\n",
    "fig.add_layer(markers)\n",
    "\n",
    "fig\n"
   ]
  },
  {
   "cell_type": "code",
   "execution_count": null,
   "metadata": {},
   "outputs": [],
   "source": []
  }
 ],
 "metadata": {
  "kernelspec": {
   "display_name": "Python 3",
   "language": "python",
   "name": "python3"
  },
  "language_info": {
   "codemirror_mode": {
    "name": "ipython",
    "version": 3
   },
   "file_extension": ".py",
   "mimetype": "text/x-python",
   "name": "python",
   "nbconvert_exporter": "python",
   "pygments_lexer": "ipython3",
   "version": "3.6.12"
  },
  "latex_envs": {
   "LaTeX_envs_menu_present": true,
   "autoclose": false,
   "autocomplete": true,
   "bibliofile": "biblio.bib",
   "cite_by": "apalike",
   "current_citInitial": 1,
   "eqLabelWithNumbers": true,
   "eqNumInitial": 1,
   "hotkeys": {
    "equation": "Ctrl-E",
    "itemize": "Ctrl-I"
   },
   "labels_anchors": false,
   "latex_user_defs": false,
   "report_style_numbering": false,
   "user_envs_cfg": false
  }
 },
 "nbformat": 4,
 "nbformat_minor": 4
}
