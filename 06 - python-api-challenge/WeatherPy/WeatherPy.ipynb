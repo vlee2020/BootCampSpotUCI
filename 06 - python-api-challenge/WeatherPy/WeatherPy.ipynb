{
 "cells": [
  {
   "cell_type": "markdown",
   "metadata": {},
   "source": [
    "# WeatherPy\n",
    "----\n",
    "\n",
    "#### Note\n",
    "* Instructions have been included for each segment. You do not have to follow them exactly, but they are included to help you think through the steps."
   ]
  },
  {
   "cell_type": "code",
   "execution_count": 1,
   "metadata": {
    "scrolled": true
   },
   "outputs": [
    {
     "name": "stdout",
     "output_type": "stream",
     "text": [
      "Requirement already satisfied: citipy in c:\\users\\findv\\anaconda3\\envs\\pythondata\\lib\\site-packages (0.0.5)\n",
      "Requirement already satisfied: kdtree>=0.12 in c:\\users\\findv\\anaconda3\\envs\\pythondata\\lib\\site-packages (from citipy) (0.16)\n"
     ]
    }
   ],
   "source": [
    "#Install citypy - Note to add an \"!\" in front of pip when downloading packages in the cloud\n",
    "!pip install citipy"
   ]
  },
  {
   "cell_type": "code",
   "execution_count": 2,
   "metadata": {
    "scrolled": true
   },
   "outputs": [],
   "source": [
    "#Initiate Dependencies\n",
    "\n",
    "import json\n",
    "import requests\n",
    "import pandas as pd\n",
    "import numpy as np\n",
    "from pprint import pprint   #pretty print api data structures\n",
    "from random import uniform  #will enable random sampling of weatherAPI data\n",
    "from citipy import citipy   #to use nearest_city method from citipy\n",
    "from config import weather_api_key\n",
    "from config import g_key\n",
    "\n",
    "url = 'http://api.openweathermap.org/data/2.5/weather?q='\n",
    "units = 'imperial'\n"
   ]
  },
  {
   "cell_type": "markdown",
   "metadata": {},
   "source": [
    "## Generate Cities List\n",
    "### Perform API Calls\n",
    "* Perform a weather check on each city using a series of successive API calls.\n",
    "* Include a print log of each city as it'sbeing processed (with the city number and city name)."
   ]
  },
  {
   "cell_type": "code",
   "execution_count": 7,
   "metadata": {},
   "outputs": [
    {
     "name": "stdout",
     "output_type": "stream",
     "text": [
      "ID: 1688696, City Name: San Policarpo\n",
      "ID: 6165406, City Name: Thompson\n",
      "ID: 3833367, City Name: Ushuaia\n",
      "ID: 1015776, City Name: Bredasdorp\n",
      "ID: 2077963, City Name: Albany\n",
      "ID: 2064735, City Name: Nhulunbuy\n",
      "ID: 2754668, City Name: Gemeente Heerenveen\n",
      "ID: 2077963, City Name: Albany\n",
      "ID: 6170031, City Name: Tuktoyaktuk\n",
      "ID: 5866583, City Name: Saint Paul Harbor\n"
     ]
    }
   ],
   "source": [
    "cities = []\n",
    "weather = []\n",
    "id = []\n",
    "\n",
    "while len(cities) < 10:\n",
    "\n",
    "    #Generate random city to search\n",
    "    longitude = round(uniform(-180,180),3) #this returns a random float. Parameters define lower and upper limits\n",
    "    latitude = round(uniform(-90, 90), 3) #this returns a random float. Parameters define lower and upper limits\n",
    "    \n",
    "    city = citipy.nearest_city(latitude, longitude)\n",
    "    city_name = city.city_name\n",
    "    country_code = city.country_code\n",
    "    \n",
    "    random_city = (f'{city_name}, {country_code}')\n",
    "      \n",
    "    #Perform API call\n",
    "    query_url = url + city_name + ',' + country_code + \"&APPID=\" + weather_api_key + \"&units=\" + units\n",
    "    response = requests.get(query_url)\n",
    "    weather_json = response.json()\n",
    "\n",
    "    if weather_json['cod'] == 200:\n",
    "        id = weather_json['id']\n",
    "        city_name = weather_json['name']\n",
    "        cities.append(random_city)\n",
    "        weather.append(weather_json)\n",
    "        \n",
    "        #Print Log\n",
    "        print(f'ID: {id}, City Name: {city_name}')\n",
    "   \n",
    "    else:\n",
    "        pass\n"
   ]
  },
  {
   "cell_type": "code",
   "execution_count": 8,
   "metadata": {},
   "outputs": [],
   "source": [
    "# My validations\n",
    "\n",
    "#print(len(np.unique(cities)))\n",
    "#print(cities)\n",
    "#pprint(weather_json) \n",
    "#id\n",
    "#lat\n"
   ]
  },
  {
   "cell_type": "markdown",
   "metadata": {},
   "source": [
    "### Convert Raw Data to DataFrame\n",
    "* Export the city data into a .csv.\n",
    "* Display the DataFrame"
   ]
  },
  {
   "cell_type": "code",
   "execution_count": 5,
   "metadata": {},
   "outputs": [],
   "source": [
    "# Export the city data into a .csv"
   ]
  },
  {
   "cell_type": "code",
   "execution_count": 6,
   "metadata": {},
   "outputs": [
    {
     "data": {
      "text/html": [
       "<div>\n",
       "<style scoped>\n",
       "    .dataframe tbody tr th:only-of-type {\n",
       "        vertical-align: middle;\n",
       "    }\n",
       "\n",
       "    .dataframe tbody tr th {\n",
       "        vertical-align: top;\n",
       "    }\n",
       "\n",
       "    .dataframe thead th {\n",
       "        text-align: right;\n",
       "    }\n",
       "</style>\n",
       "<table border=\"1\" class=\"dataframe\">\n",
       "  <thead>\n",
       "    <tr style=\"text-align: right;\">\n",
       "      <th></th>\n",
       "      <th>id</th>\n",
       "      <th>name</th>\n",
       "      <th>country</th>\n",
       "      <th>latitude</th>\n",
       "      <th>longitude</th>\n",
       "      <th>temp</th>\n",
       "      <th>humidity</th>\n",
       "      <th>cloudiness</th>\n",
       "      <th>wind_speed</th>\n",
       "    </tr>\n",
       "  </thead>\n",
       "  <tbody>\n",
       "    <tr>\n",
       "      <th>0</th>\n",
       "      <td>5882953</td>\n",
       "      <td>Aklavik</td>\n",
       "      <td>CA</td>\n",
       "      <td>68.22</td>\n",
       "      <td>-135.01</td>\n",
       "      <td>13.32</td>\n",
       "      <td>85.0</td>\n",
       "      <td>85</td>\n",
       "      <td>6.49</td>\n",
       "    </tr>\n",
       "    <tr>\n",
       "      <th>1</th>\n",
       "      <td>2017155</td>\n",
       "      <td>Saskylakh</td>\n",
       "      <td>RU</td>\n",
       "      <td>71.92</td>\n",
       "      <td>114.08</td>\n",
       "      <td>19.58</td>\n",
       "      <td>97.0</td>\n",
       "      <td>85</td>\n",
       "      <td>4.94</td>\n",
       "    </tr>\n",
       "    <tr>\n",
       "      <th>2</th>\n",
       "      <td>5855927</td>\n",
       "      <td>Hilo</td>\n",
       "      <td>US</td>\n",
       "      <td>19.73</td>\n",
       "      <td>-155.09</td>\n",
       "      <td>63.54</td>\n",
       "      <td>92.0</td>\n",
       "      <td>100</td>\n",
       "      <td>5.01</td>\n",
       "    </tr>\n",
       "    <tr>\n",
       "      <th>3</th>\n",
       "      <td>5225857</td>\n",
       "      <td>Aberdeen</td>\n",
       "      <td>US</td>\n",
       "      <td>45.46</td>\n",
       "      <td>-98.49</td>\n",
       "      <td>27.48</td>\n",
       "      <td>82.0</td>\n",
       "      <td>100</td>\n",
       "      <td>4.92</td>\n",
       "    </tr>\n",
       "    <tr>\n",
       "      <th>4</th>\n",
       "      <td>4035715</td>\n",
       "      <td>Avarua</td>\n",
       "      <td>CK</td>\n",
       "      <td>-21.21</td>\n",
       "      <td>-159.78</td>\n",
       "      <td>75.18</td>\n",
       "      <td>77.0</td>\n",
       "      <td>2</td>\n",
       "      <td>4.88</td>\n",
       "    </tr>\n",
       "    <tr>\n",
       "      <th>5</th>\n",
       "      <td>2163355</td>\n",
       "      <td>Hobart</td>\n",
       "      <td>AU</td>\n",
       "      <td>-42.88</td>\n",
       "      <td>147.33</td>\n",
       "      <td>45.30</td>\n",
       "      <td>92.0</td>\n",
       "      <td>85</td>\n",
       "      <td>3.22</td>\n",
       "    </tr>\n",
       "    <tr>\n",
       "      <th>6</th>\n",
       "      <td>1244713</td>\n",
       "      <td>Haputale</td>\n",
       "      <td>LK</td>\n",
       "      <td>6.77</td>\n",
       "      <td>80.96</td>\n",
       "      <td>66.09</td>\n",
       "      <td>82.0</td>\n",
       "      <td>99</td>\n",
       "      <td>4.83</td>\n",
       "    </tr>\n",
       "    <tr>\n",
       "      <th>7</th>\n",
       "      <td>4035715</td>\n",
       "      <td>Avarua</td>\n",
       "      <td>CK</td>\n",
       "      <td>-21.21</td>\n",
       "      <td>-159.78</td>\n",
       "      <td>75.18</td>\n",
       "      <td>77.0</td>\n",
       "      <td>2</td>\n",
       "      <td>4.88</td>\n",
       "    </tr>\n",
       "    <tr>\n",
       "      <th>8</th>\n",
       "      <td>87205</td>\n",
       "      <td>Darnah</td>\n",
       "      <td>LY</td>\n",
       "      <td>32.77</td>\n",
       "      <td>22.64</td>\n",
       "      <td>72.52</td>\n",
       "      <td>72.0</td>\n",
       "      <td>86</td>\n",
       "      <td>16.40</td>\n",
       "    </tr>\n",
       "    <tr>\n",
       "      <th>9</th>\n",
       "      <td>3517970</td>\n",
       "      <td>Pochutla</td>\n",
       "      <td>MX</td>\n",
       "      <td>15.74</td>\n",
       "      <td>-96.47</td>\n",
       "      <td>75.00</td>\n",
       "      <td>87.0</td>\n",
       "      <td>0</td>\n",
       "      <td>2.37</td>\n",
       "    </tr>\n",
       "  </tbody>\n",
       "</table>\n",
       "</div>"
      ],
      "text/plain": [
       "        id       name country  latitude  longitude   temp  humidity  \\\n",
       "0  5882953    Aklavik      CA     68.22    -135.01  13.32      85.0   \n",
       "1  2017155  Saskylakh      RU     71.92     114.08  19.58      97.0   \n",
       "2  5855927       Hilo      US     19.73    -155.09  63.54      92.0   \n",
       "3  5225857   Aberdeen      US     45.46     -98.49  27.48      82.0   \n",
       "4  4035715     Avarua      CK    -21.21    -159.78  75.18      77.0   \n",
       "5  2163355     Hobart      AU    -42.88     147.33  45.30      92.0   \n",
       "6  1244713   Haputale      LK      6.77      80.96  66.09      82.0   \n",
       "7  4035715     Avarua      CK    -21.21    -159.78  75.18      77.0   \n",
       "8    87205     Darnah      LY     32.77      22.64  72.52      72.0   \n",
       "9  3517970   Pochutla      MX     15.74     -96.47  75.00      87.0   \n",
       "\n",
       "   cloudiness  wind_speed  \n",
       "0          85        6.49  \n",
       "1          85        4.94  \n",
       "2         100        5.01  \n",
       "3         100        4.92  \n",
       "4           2        4.88  \n",
       "5          85        3.22  \n",
       "6          99        4.83  \n",
       "7           2        4.88  \n",
       "8          86       16.40  \n",
       "9           0        2.37  "
      ]
     },
     "execution_count": 6,
     "metadata": {},
     "output_type": "execute_result"
    }
   ],
   "source": [
    "# Create Dataframe that contains sample city population along with weather data\n",
    "city_df = pd.DataFrame.from_dict(weather, orient='columns')\n",
    "\n",
    "# Flatten city_df dataframe\n",
    "city_df = pd.concat([city_df, city_df['coord'].apply(pd.Series)], axis = 1).drop('coord', axis =1)\n",
    "city_df = pd.concat([city_df, city_df['main'].apply(pd.Series)], axis = 1).drop('main', axis =1)\n",
    "city_df = pd.concat([city_df, city_df['wind'].apply(pd.Series)], axis = 1).drop('wind', axis =1)\n",
    "city_df = pd.concat([city_df, city_df['sys'].apply(pd.Series)], axis = 1).drop('sys', axis =1)\n",
    "city_df = pd.concat([city_df, city_df['weather'].apply(pd.Series)], axis = 1).drop('weather', axis =1)\n",
    "city_df = pd.concat([city_df, city_df['clouds'].apply(pd.Series)], axis = 1).drop('clouds', axis =1)\n",
    "\n",
    "# Ensure there are no duplicated column names\n",
    "cols=pd.Series(city_df.columns)\n",
    "\n",
    "for dup in cols[cols.duplicated()].unique(): \n",
    "    cols[cols[cols == dup].index.values.tolist()] = [dup + '.' + str(i) if i != 0 else dup for i in range(sum(cols == dup))]\n",
    "city_df.columns=cols\n",
    "\n",
    "# Rename and display DataFrame\n",
    "city_df = city_df[['id', 'name', 'country', 'lat', 'lon', 'temp', 'humidity', 'all', 'speed']]\n",
    "city_df = city_df.rename(columns = {'lat':'latitude', 'lon':'longitude','all': 'cloudiness', 'speed': 'wind_speed'})\n",
    "city_df\n"
   ]
  },
  {
   "cell_type": "markdown",
   "metadata": {},
   "source": [
    "## Inspect the data and remove the cities where the humidity > 100%.\n",
    "----\n",
    "Skip this step if there are no cities that have humidity > 100%. "
   ]
  },
  {
   "cell_type": "code",
   "execution_count": null,
   "metadata": {},
   "outputs": [],
   "source": [
    "clean_city_df = city_df[city_df['humidity']<100]\n",
    "clean_city_df"
   ]
  },
  {
   "cell_type": "markdown",
   "metadata": {},
   "source": [
    "## Plotting the Data\n",
    "* Use proper labeling of the plots using plot titles (including date of analysis) and axes labels.\n",
    "* Save the plotted figures as .pngs."
   ]
  },
  {
   "cell_type": "markdown",
   "metadata": {},
   "source": [
    "## Latitude vs. Temperature Plot"
   ]
  },
  {
   "cell_type": "code",
   "execution_count": null,
   "metadata": {
    "scrolled": true
   },
   "outputs": [],
   "source": []
  },
  {
   "cell_type": "markdown",
   "metadata": {},
   "source": [
    "## Latitude vs. Humidity Plot"
   ]
  },
  {
   "cell_type": "code",
   "execution_count": null,
   "metadata": {},
   "outputs": [],
   "source": []
  },
  {
   "cell_type": "markdown",
   "metadata": {},
   "source": [
    "## Latitude vs. Cloudiness Plot"
   ]
  },
  {
   "cell_type": "code",
   "execution_count": null,
   "metadata": {},
   "outputs": [],
   "source": []
  },
  {
   "cell_type": "markdown",
   "metadata": {},
   "source": [
    "## Latitude vs. Wind Speed Plot"
   ]
  },
  {
   "cell_type": "code",
   "execution_count": null,
   "metadata": {},
   "outputs": [],
   "source": []
  },
  {
   "cell_type": "markdown",
   "metadata": {},
   "source": [
    "## Linear Regression"
   ]
  },
  {
   "cell_type": "code",
   "execution_count": null,
   "metadata": {},
   "outputs": [],
   "source": []
  },
  {
   "cell_type": "markdown",
   "metadata": {},
   "source": [
    "####  Northern Hemisphere - Max Temp vs. Latitude Linear Regression"
   ]
  },
  {
   "cell_type": "code",
   "execution_count": null,
   "metadata": {},
   "outputs": [],
   "source": []
  },
  {
   "cell_type": "markdown",
   "metadata": {},
   "source": [
    "####  Southern Hemisphere - Max Temp vs. Latitude Linear Regression"
   ]
  },
  {
   "cell_type": "code",
   "execution_count": null,
   "metadata": {},
   "outputs": [],
   "source": []
  },
  {
   "cell_type": "markdown",
   "metadata": {},
   "source": [
    "####  Northern Hemisphere - Humidity (%) vs. Latitude Linear Regression"
   ]
  },
  {
   "cell_type": "code",
   "execution_count": null,
   "metadata": {},
   "outputs": [],
   "source": []
  },
  {
   "cell_type": "markdown",
   "metadata": {},
   "source": [
    "####  Southern Hemisphere - Humidity (%) vs. Latitude Linear Regression"
   ]
  },
  {
   "cell_type": "code",
   "execution_count": null,
   "metadata": {},
   "outputs": [],
   "source": []
  },
  {
   "cell_type": "markdown",
   "metadata": {},
   "source": [
    "####  Northern Hemisphere - Cloudiness (%) vs. Latitude Linear Regression"
   ]
  },
  {
   "cell_type": "code",
   "execution_count": null,
   "metadata": {},
   "outputs": [],
   "source": []
  },
  {
   "cell_type": "markdown",
   "metadata": {},
   "source": [
    "####  Southern Hemisphere - Cloudiness (%) vs. Latitude Linear Regression"
   ]
  },
  {
   "cell_type": "code",
   "execution_count": null,
   "metadata": {},
   "outputs": [],
   "source": []
  },
  {
   "cell_type": "markdown",
   "metadata": {},
   "source": [
    "####  Northern Hemisphere - Wind Speed (mph) vs. Latitude Linear Regression"
   ]
  },
  {
   "cell_type": "code",
   "execution_count": null,
   "metadata": {},
   "outputs": [],
   "source": []
  },
  {
   "cell_type": "markdown",
   "metadata": {},
   "source": [
    "####  Southern Hemisphere - Wind Speed (mph) vs. Latitude Linear Regression"
   ]
  },
  {
   "cell_type": "code",
   "execution_count": null,
   "metadata": {},
   "outputs": [],
   "source": []
  },
  {
   "cell_type": "code",
   "execution_count": null,
   "metadata": {},
   "outputs": [],
   "source": []
  }
 ],
 "metadata": {
  "anaconda-cloud": {},
  "kernel_info": {
   "name": "python3"
  },
  "kernelspec": {
   "display_name": "Python 3",
   "language": "python",
   "name": "python3"
  },
  "language_info": {
   "codemirror_mode": {
    "name": "ipython",
    "version": 3
   },
   "file_extension": ".py",
   "mimetype": "text/x-python",
   "name": "python",
   "nbconvert_exporter": "python",
   "pygments_lexer": "ipython3",
   "version": "3.6.12"
  },
  "latex_envs": {
   "LaTeX_envs_menu_present": true,
   "autoclose": false,
   "autocomplete": true,
   "bibliofile": "biblio.bib",
   "cite_by": "apalike",
   "current_citInitial": 1,
   "eqLabelWithNumbers": true,
   "eqNumInitial": 1,
   "hotkeys": {
    "equation": "Ctrl-E",
    "itemize": "Ctrl-I"
   },
   "labels_anchors": false,
   "latex_user_defs": false,
   "report_style_numbering": false,
   "user_envs_cfg": false
  },
  "nteract": {
   "version": "0.12.3"
  }
 },
 "nbformat": 4,
 "nbformat_minor": 2
}
