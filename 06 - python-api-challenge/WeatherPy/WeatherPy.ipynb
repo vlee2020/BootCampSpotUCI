{
 "cells": [
  {
   "cell_type": "markdown",
   "metadata": {},
   "source": [
    "# WeatherPy\n",
    "----\n",
    "\n",
    "#### Note\n",
    "* Instructions have been included for each segment. You do not have to follow them exactly, but they are included to help you think through the steps."
   ]
  },
  {
   "cell_type": "code",
   "execution_count": 1,
   "metadata": {
    "scrolled": true
   },
   "outputs": [
    {
     "name": "stdout",
     "output_type": "stream",
     "text": [
      "Requirement already satisfied: citipy in c:\\users\\findv\\anaconda3\\envs\\pythondata\\lib\\site-packages (0.0.5)\n",
      "Requirement already satisfied: kdtree>=0.12 in c:\\users\\findv\\anaconda3\\envs\\pythondata\\lib\\site-packages (from citipy) (0.16)\n"
     ]
    }
   ],
   "source": [
    "#Install citypy - Note to add an \"!\" in front of pip when downloading packages in the cloud\n",
    "!pip install citipy"
   ]
  },
  {
   "cell_type": "code",
   "execution_count": 10,
   "metadata": {
    "scrolled": true
   },
   "outputs": [],
   "source": [
    "#Initiate Dependencies\n",
    "\n",
    "import json\n",
    "import requests\n",
    "import pandas as pd\n",
    "import numpy as np\n",
    "import matplotlib.pyplot as plt\n",
    "from pprint import pprint   #pretty print api data structures\n",
    "from random import uniform  #will enable random sampling of weatherAPI data\n",
    "from citipy import citipy   #to use nearest_city method from citipy\n",
    "from config import weather_api_key\n",
    "from config import g_key\n",
    "\n",
    "url = 'http://api.openweathermap.org/data/2.5/weather?q='\n",
    "units = 'imperial'\n"
   ]
  },
  {
   "cell_type": "markdown",
   "metadata": {},
   "source": [
    "## Generate Cities List\n",
    "### Perform API Calls\n",
    "* Perform a weather check on each city using a series of successive API calls.\n",
    "* Include a print log of each city as it'sbeing processed (with the city number and city name)."
   ]
  },
  {
   "cell_type": "code",
   "execution_count": 18,
   "metadata": {},
   "outputs": [
    {
     "name": "stdout",
     "output_type": "stream",
     "text": [
      "ID: 1526038, City Name: Atbasar\n",
      "ID: 5924351, City Name: Clyde River\n",
      "ID: 3874787, City Name: Punta Arenas\n",
      "ID: 1488206, City Name: Ust'-Ishim\n",
      "ID: 3366880, City Name: Hermanus\n",
      "ID: 2075265, City Name: Busselton\n",
      "ID: 2038198, City Name: Chaihe\n",
      "ID: 5983720, City Name: Iqaluit\n",
      "ID: 4032243, City Name: Vaini\n",
      "ID: 2126123, City Name: Chokurdakh\n"
     ]
    }
   ],
   "source": [
    "cities = []\n",
    "weather = []\n",
    "\n",
    "\n",
    "while len(cities) < 10:\n",
    "\n",
    "    #Generate random city to search\n",
    "    longitude = round(uniform(-180,180),3) #this returns a random float. Parameters define lower and upper limits\n",
    "    latitude = round(uniform(-90, 90), 3) #this returns a random float. Parameters define lower and upper limits\n",
    "    \n",
    "    city = citipy.nearest_city(latitude, longitude)\n",
    "    city_name = city.city_name\n",
    "    country_code = city.country_code\n",
    "    \n",
    "    random_city = (f'{city_name}, {country_code}')\n",
    "      \n",
    "    #Perform API call\n",
    "    query_url = url + city_name + ',' + country_code + \"&APPID=\" + weather_api_key + \"&units=\" + units\n",
    "    response = requests.get(query_url)\n",
    "    weather_json = response.json()\n",
    "\n",
    "    if weather_json['cod'] == 200:\n",
    "        id = weather_json['id']\n",
    "        city_name = weather_json['name']\n",
    "        cities.append(random_city)\n",
    "        weather.append(weather_json)\n",
    "        \n",
    "        #Print Log\n",
    "        print(f'ID: {id}, City Name: {city_name}')\n",
    "   \n",
    "    else:\n",
    "        pass\n"
   ]
  },
  {
   "cell_type": "code",
   "execution_count": 27,
   "metadata": {},
   "outputs": [
    {
     "name": "stdout",
     "output_type": "stream",
     "text": [
      "{'base': 'stations',\n",
      " 'clouds': {'all': 99},\n",
      " 'cod': 200,\n",
      " 'coord': {'lat': 70.63, 'lon': 147.92},\n",
      " 'dt': 1603115956,\n",
      " 'id': 2126123,\n",
      " 'main': {'feels_like': 7.83,\n",
      "          'grnd_level': 998,\n",
      "          'humidity': 98,\n",
      "          'pressure': 1004,\n",
      "          'sea_level': 1004,\n",
      "          'temp': 17.1,\n",
      "          'temp_max': 17.1,\n",
      "          'temp_min': 17.1},\n",
      " 'name': 'Chokurdakh',\n",
      " 'sys': {'country': 'RU', 'sunrise': 1603143987, 'sunset': 1603173568},\n",
      " 'timezone': 39600,\n",
      " 'visibility': 468,\n",
      " 'weather': [{'description': 'overcast clouds',\n",
      "              'icon': '04n',\n",
      "              'id': 804,\n",
      "              'main': 'Clouds'}],\n",
      " 'wind': {'deg': 247, 'speed': 7.05}}\n"
     ]
    }
   ],
   "source": [
    "# My validations\n",
    "\n",
    "#print(len(np.unique(cities)))\n",
    "#print(cities)\n",
    "pprint(weather_json) \n",
    "#id\n",
    "#lat\n"
   ]
  },
  {
   "cell_type": "markdown",
   "metadata": {},
   "source": [
    "### Convert Raw Data to DataFrame\n",
    "* Export the city data into a .csv.\n",
    "* Display the DataFrame"
   ]
  },
  {
   "cell_type": "code",
   "execution_count": 20,
   "metadata": {},
   "outputs": [],
   "source": [
    "# Export the city data into a .csv"
   ]
  },
  {
   "cell_type": "code",
   "execution_count": 29,
   "metadata": {},
   "outputs": [
    {
     "data": {
      "text/html": [
       "<div>\n",
       "<style scoped>\n",
       "    .dataframe tbody tr th:only-of-type {\n",
       "        vertical-align: middle;\n",
       "    }\n",
       "\n",
       "    .dataframe tbody tr th {\n",
       "        vertical-align: top;\n",
       "    }\n",
       "\n",
       "    .dataframe thead th {\n",
       "        text-align: right;\n",
       "    }\n",
       "</style>\n",
       "<table border=\"1\" class=\"dataframe\">\n",
       "  <thead>\n",
       "    <tr style=\"text-align: right;\">\n",
       "      <th></th>\n",
       "      <th>id</th>\n",
       "      <th>name</th>\n",
       "      <th>country</th>\n",
       "      <th>latitude</th>\n",
       "      <th>longitude</th>\n",
       "      <th>temp</th>\n",
       "      <th>temp_max</th>\n",
       "      <th>temp_min</th>\n",
       "      <th>humidity</th>\n",
       "      <th>cloudiness</th>\n",
       "      <th>wind_speed</th>\n",
       "    </tr>\n",
       "  </thead>\n",
       "  <tbody>\n",
       "    <tr>\n",
       "      <th>0</th>\n",
       "      <td>1526038</td>\n",
       "      <td>Atbasar</td>\n",
       "      <td>KZ</td>\n",
       "      <td>51.80</td>\n",
       "      <td>68.33</td>\n",
       "      <td>48.88</td>\n",
       "      <td>48.88</td>\n",
       "      <td>48.88</td>\n",
       "      <td>55.0</td>\n",
       "      <td>0</td>\n",
       "      <td>10.40</td>\n",
       "    </tr>\n",
       "    <tr>\n",
       "      <th>1</th>\n",
       "      <td>5924351</td>\n",
       "      <td>Clyde River</td>\n",
       "      <td>CA</td>\n",
       "      <td>70.47</td>\n",
       "      <td>-68.59</td>\n",
       "      <td>32.77</td>\n",
       "      <td>32.77</td>\n",
       "      <td>32.77</td>\n",
       "      <td>96.0</td>\n",
       "      <td>100</td>\n",
       "      <td>10.69</td>\n",
       "    </tr>\n",
       "    <tr>\n",
       "      <th>2</th>\n",
       "      <td>3874787</td>\n",
       "      <td>Punta Arenas</td>\n",
       "      <td>CL</td>\n",
       "      <td>-53.15</td>\n",
       "      <td>-70.92</td>\n",
       "      <td>42.89</td>\n",
       "      <td>42.89</td>\n",
       "      <td>42.89</td>\n",
       "      <td>64.0</td>\n",
       "      <td>87</td>\n",
       "      <td>25.17</td>\n",
       "    </tr>\n",
       "    <tr>\n",
       "      <th>3</th>\n",
       "      <td>1488206</td>\n",
       "      <td>Ust'-Ishim</td>\n",
       "      <td>RU</td>\n",
       "      <td>57.69</td>\n",
       "      <td>71.17</td>\n",
       "      <td>42.24</td>\n",
       "      <td>42.24</td>\n",
       "      <td>42.24</td>\n",
       "      <td>76.0</td>\n",
       "      <td>100</td>\n",
       "      <td>8.99</td>\n",
       "    </tr>\n",
       "    <tr>\n",
       "      <th>4</th>\n",
       "      <td>3366880</td>\n",
       "      <td>Hermanus</td>\n",
       "      <td>ZA</td>\n",
       "      <td>-34.42</td>\n",
       "      <td>19.23</td>\n",
       "      <td>62.01</td>\n",
       "      <td>62.01</td>\n",
       "      <td>62.01</td>\n",
       "      <td>72.0</td>\n",
       "      <td>70</td>\n",
       "      <td>5.99</td>\n",
       "    </tr>\n",
       "    <tr>\n",
       "      <th>5</th>\n",
       "      <td>2075265</td>\n",
       "      <td>Busselton</td>\n",
       "      <td>AU</td>\n",
       "      <td>-33.65</td>\n",
       "      <td>115.33</td>\n",
       "      <td>60.06</td>\n",
       "      <td>63.00</td>\n",
       "      <td>57.99</td>\n",
       "      <td>55.0</td>\n",
       "      <td>1</td>\n",
       "      <td>13.78</td>\n",
       "    </tr>\n",
       "    <tr>\n",
       "      <th>6</th>\n",
       "      <td>2038198</td>\n",
       "      <td>Chaihe</td>\n",
       "      <td>CN</td>\n",
       "      <td>44.77</td>\n",
       "      <td>129.70</td>\n",
       "      <td>41.86</td>\n",
       "      <td>41.86</td>\n",
       "      <td>41.86</td>\n",
       "      <td>67.0</td>\n",
       "      <td>17</td>\n",
       "      <td>2.62</td>\n",
       "    </tr>\n",
       "    <tr>\n",
       "      <th>7</th>\n",
       "      <td>5983720</td>\n",
       "      <td>Iqaluit</td>\n",
       "      <td>CA</td>\n",
       "      <td>63.75</td>\n",
       "      <td>-68.51</td>\n",
       "      <td>33.01</td>\n",
       "      <td>33.01</td>\n",
       "      <td>33.01</td>\n",
       "      <td>74.0</td>\n",
       "      <td>51</td>\n",
       "      <td>4.00</td>\n",
       "    </tr>\n",
       "    <tr>\n",
       "      <th>8</th>\n",
       "      <td>4032243</td>\n",
       "      <td>Vaini</td>\n",
       "      <td>TO</td>\n",
       "      <td>-21.20</td>\n",
       "      <td>-175.20</td>\n",
       "      <td>70.84</td>\n",
       "      <td>70.84</td>\n",
       "      <td>70.84</td>\n",
       "      <td>79.0</td>\n",
       "      <td>36</td>\n",
       "      <td>19.08</td>\n",
       "    </tr>\n",
       "    <tr>\n",
       "      <th>9</th>\n",
       "      <td>2126123</td>\n",
       "      <td>Chokurdakh</td>\n",
       "      <td>RU</td>\n",
       "      <td>70.63</td>\n",
       "      <td>147.92</td>\n",
       "      <td>17.10</td>\n",
       "      <td>17.10</td>\n",
       "      <td>17.10</td>\n",
       "      <td>98.0</td>\n",
       "      <td>99</td>\n",
       "      <td>7.05</td>\n",
       "    </tr>\n",
       "  </tbody>\n",
       "</table>\n",
       "</div>"
      ],
      "text/plain": [
       "        id          name country  latitude  longitude   temp  temp_max  \\\n",
       "0  1526038       Atbasar      KZ     51.80      68.33  48.88     48.88   \n",
       "1  5924351   Clyde River      CA     70.47     -68.59  32.77     32.77   \n",
       "2  3874787  Punta Arenas      CL    -53.15     -70.92  42.89     42.89   \n",
       "3  1488206    Ust'-Ishim      RU     57.69      71.17  42.24     42.24   \n",
       "4  3366880      Hermanus      ZA    -34.42      19.23  62.01     62.01   \n",
       "5  2075265     Busselton      AU    -33.65     115.33  60.06     63.00   \n",
       "6  2038198        Chaihe      CN     44.77     129.70  41.86     41.86   \n",
       "7  5983720       Iqaluit      CA     63.75     -68.51  33.01     33.01   \n",
       "8  4032243         Vaini      TO    -21.20    -175.20  70.84     70.84   \n",
       "9  2126123    Chokurdakh      RU     70.63     147.92  17.10     17.10   \n",
       "\n",
       "   temp_min  humidity  cloudiness  wind_speed  \n",
       "0     48.88      55.0           0       10.40  \n",
       "1     32.77      96.0         100       10.69  \n",
       "2     42.89      64.0          87       25.17  \n",
       "3     42.24      76.0         100        8.99  \n",
       "4     62.01      72.0          70        5.99  \n",
       "5     57.99      55.0           1       13.78  \n",
       "6     41.86      67.0          17        2.62  \n",
       "7     33.01      74.0          51        4.00  \n",
       "8     70.84      79.0          36       19.08  \n",
       "9     17.10      98.0          99        7.05  "
      ]
     },
     "execution_count": 29,
     "metadata": {},
     "output_type": "execute_result"
    }
   ],
   "source": [
    "# Create Dataframe that contains sample city population along with weather data\n",
    "city_df = pd.DataFrame.from_dict(weather, orient='columns')\n",
    "\n",
    "# Flatten city_df dataframe\n",
    "city_df = pd.concat([city_df, city_df['coord'].apply(pd.Series)], axis = 1).drop('coord', axis =1)\n",
    "city_df = pd.concat([city_df, city_df['main'].apply(pd.Series)], axis = 1).drop('main', axis =1)\n",
    "city_df = pd.concat([city_df, city_df['wind'].apply(pd.Series)], axis = 1).drop('wind', axis =1)\n",
    "city_df = pd.concat([city_df, city_df['sys'].apply(pd.Series)], axis = 1).drop('sys', axis =1)\n",
    "city_df = pd.concat([city_df, city_df['weather'].apply(pd.Series)], axis = 1).drop('weather', axis =1)\n",
    "city_df = pd.concat([city_df, city_df['clouds'].apply(pd.Series)], axis = 1).drop('clouds', axis =1)\n",
    "\n",
    "# Ensure there are no duplicated column names\n",
    "cols=pd.Series(city_df.columns)\n",
    "\n",
    "for dup in cols[cols.duplicated()].unique(): \n",
    "    cols[cols[cols == dup].index.values.tolist()] = [dup + '.' + str(i) if i != 0 else dup for i in range(sum(cols == dup))]\n",
    "city_df.columns=cols\n",
    "\n",
    "# Rename and display DataFrame\n",
    "city_df = city_df[['id', 'name', 'country', 'lat', 'lon', 'temp', 'temp_max', 'temp_min', 'humidity', 'all', 'speed']]\n",
    "city_df = city_df.rename(columns = {'lat':'latitude', 'lon':'longitude','all': 'cloudiness', 'speed': 'wind_speed'})\n",
    "city_df\n"
   ]
  },
  {
   "cell_type": "markdown",
   "metadata": {},
   "source": [
    "## Inspect the data and remove the cities where the humidity > 100%.\n",
    "----\n",
    "Skip this step if there are no cities that have humidity > 100%. "
   ]
  },
  {
   "cell_type": "code",
   "execution_count": 30,
   "metadata": {},
   "outputs": [
    {
     "data": {
      "text/html": [
       "<div>\n",
       "<style scoped>\n",
       "    .dataframe tbody tr th:only-of-type {\n",
       "        vertical-align: middle;\n",
       "    }\n",
       "\n",
       "    .dataframe tbody tr th {\n",
       "        vertical-align: top;\n",
       "    }\n",
       "\n",
       "    .dataframe thead th {\n",
       "        text-align: right;\n",
       "    }\n",
       "</style>\n",
       "<table border=\"1\" class=\"dataframe\">\n",
       "  <thead>\n",
       "    <tr style=\"text-align: right;\">\n",
       "      <th></th>\n",
       "      <th>id</th>\n",
       "      <th>name</th>\n",
       "      <th>country</th>\n",
       "      <th>latitude</th>\n",
       "      <th>longitude</th>\n",
       "      <th>temp</th>\n",
       "      <th>temp_max</th>\n",
       "      <th>temp_min</th>\n",
       "      <th>humidity</th>\n",
       "      <th>cloudiness</th>\n",
       "      <th>wind_speed</th>\n",
       "    </tr>\n",
       "  </thead>\n",
       "  <tbody>\n",
       "    <tr>\n",
       "      <th>0</th>\n",
       "      <td>1526038</td>\n",
       "      <td>Atbasar</td>\n",
       "      <td>KZ</td>\n",
       "      <td>51.80</td>\n",
       "      <td>68.33</td>\n",
       "      <td>48.88</td>\n",
       "      <td>48.88</td>\n",
       "      <td>48.88</td>\n",
       "      <td>55.0</td>\n",
       "      <td>0</td>\n",
       "      <td>10.40</td>\n",
       "    </tr>\n",
       "    <tr>\n",
       "      <th>1</th>\n",
       "      <td>5924351</td>\n",
       "      <td>Clyde River</td>\n",
       "      <td>CA</td>\n",
       "      <td>70.47</td>\n",
       "      <td>-68.59</td>\n",
       "      <td>32.77</td>\n",
       "      <td>32.77</td>\n",
       "      <td>32.77</td>\n",
       "      <td>96.0</td>\n",
       "      <td>100</td>\n",
       "      <td>10.69</td>\n",
       "    </tr>\n",
       "    <tr>\n",
       "      <th>2</th>\n",
       "      <td>3874787</td>\n",
       "      <td>Punta Arenas</td>\n",
       "      <td>CL</td>\n",
       "      <td>-53.15</td>\n",
       "      <td>-70.92</td>\n",
       "      <td>42.89</td>\n",
       "      <td>42.89</td>\n",
       "      <td>42.89</td>\n",
       "      <td>64.0</td>\n",
       "      <td>87</td>\n",
       "      <td>25.17</td>\n",
       "    </tr>\n",
       "    <tr>\n",
       "      <th>3</th>\n",
       "      <td>1488206</td>\n",
       "      <td>Ust'-Ishim</td>\n",
       "      <td>RU</td>\n",
       "      <td>57.69</td>\n",
       "      <td>71.17</td>\n",
       "      <td>42.24</td>\n",
       "      <td>42.24</td>\n",
       "      <td>42.24</td>\n",
       "      <td>76.0</td>\n",
       "      <td>100</td>\n",
       "      <td>8.99</td>\n",
       "    </tr>\n",
       "    <tr>\n",
       "      <th>4</th>\n",
       "      <td>3366880</td>\n",
       "      <td>Hermanus</td>\n",
       "      <td>ZA</td>\n",
       "      <td>-34.42</td>\n",
       "      <td>19.23</td>\n",
       "      <td>62.01</td>\n",
       "      <td>62.01</td>\n",
       "      <td>62.01</td>\n",
       "      <td>72.0</td>\n",
       "      <td>70</td>\n",
       "      <td>5.99</td>\n",
       "    </tr>\n",
       "    <tr>\n",
       "      <th>5</th>\n",
       "      <td>2075265</td>\n",
       "      <td>Busselton</td>\n",
       "      <td>AU</td>\n",
       "      <td>-33.65</td>\n",
       "      <td>115.33</td>\n",
       "      <td>60.06</td>\n",
       "      <td>63.00</td>\n",
       "      <td>57.99</td>\n",
       "      <td>55.0</td>\n",
       "      <td>1</td>\n",
       "      <td>13.78</td>\n",
       "    </tr>\n",
       "    <tr>\n",
       "      <th>6</th>\n",
       "      <td>2038198</td>\n",
       "      <td>Chaihe</td>\n",
       "      <td>CN</td>\n",
       "      <td>44.77</td>\n",
       "      <td>129.70</td>\n",
       "      <td>41.86</td>\n",
       "      <td>41.86</td>\n",
       "      <td>41.86</td>\n",
       "      <td>67.0</td>\n",
       "      <td>17</td>\n",
       "      <td>2.62</td>\n",
       "    </tr>\n",
       "    <tr>\n",
       "      <th>7</th>\n",
       "      <td>5983720</td>\n",
       "      <td>Iqaluit</td>\n",
       "      <td>CA</td>\n",
       "      <td>63.75</td>\n",
       "      <td>-68.51</td>\n",
       "      <td>33.01</td>\n",
       "      <td>33.01</td>\n",
       "      <td>33.01</td>\n",
       "      <td>74.0</td>\n",
       "      <td>51</td>\n",
       "      <td>4.00</td>\n",
       "    </tr>\n",
       "    <tr>\n",
       "      <th>8</th>\n",
       "      <td>4032243</td>\n",
       "      <td>Vaini</td>\n",
       "      <td>TO</td>\n",
       "      <td>-21.20</td>\n",
       "      <td>-175.20</td>\n",
       "      <td>70.84</td>\n",
       "      <td>70.84</td>\n",
       "      <td>70.84</td>\n",
       "      <td>79.0</td>\n",
       "      <td>36</td>\n",
       "      <td>19.08</td>\n",
       "    </tr>\n",
       "    <tr>\n",
       "      <th>9</th>\n",
       "      <td>2126123</td>\n",
       "      <td>Chokurdakh</td>\n",
       "      <td>RU</td>\n",
       "      <td>70.63</td>\n",
       "      <td>147.92</td>\n",
       "      <td>17.10</td>\n",
       "      <td>17.10</td>\n",
       "      <td>17.10</td>\n",
       "      <td>98.0</td>\n",
       "      <td>99</td>\n",
       "      <td>7.05</td>\n",
       "    </tr>\n",
       "  </tbody>\n",
       "</table>\n",
       "</div>"
      ],
      "text/plain": [
       "        id          name country  latitude  longitude   temp  temp_max  \\\n",
       "0  1526038       Atbasar      KZ     51.80      68.33  48.88     48.88   \n",
       "1  5924351   Clyde River      CA     70.47     -68.59  32.77     32.77   \n",
       "2  3874787  Punta Arenas      CL    -53.15     -70.92  42.89     42.89   \n",
       "3  1488206    Ust'-Ishim      RU     57.69      71.17  42.24     42.24   \n",
       "4  3366880      Hermanus      ZA    -34.42      19.23  62.01     62.01   \n",
       "5  2075265     Busselton      AU    -33.65     115.33  60.06     63.00   \n",
       "6  2038198        Chaihe      CN     44.77     129.70  41.86     41.86   \n",
       "7  5983720       Iqaluit      CA     63.75     -68.51  33.01     33.01   \n",
       "8  4032243         Vaini      TO    -21.20    -175.20  70.84     70.84   \n",
       "9  2126123    Chokurdakh      RU     70.63     147.92  17.10     17.10   \n",
       "\n",
       "   temp_min  humidity  cloudiness  wind_speed  \n",
       "0     48.88      55.0           0       10.40  \n",
       "1     32.77      96.0         100       10.69  \n",
       "2     42.89      64.0          87       25.17  \n",
       "3     42.24      76.0         100        8.99  \n",
       "4     62.01      72.0          70        5.99  \n",
       "5     57.99      55.0           1       13.78  \n",
       "6     41.86      67.0          17        2.62  \n",
       "7     33.01      74.0          51        4.00  \n",
       "8     70.84      79.0          36       19.08  \n",
       "9     17.10      98.0          99        7.05  "
      ]
     },
     "execution_count": 30,
     "metadata": {},
     "output_type": "execute_result"
    }
   ],
   "source": [
    "clean_city_df = city_df[city_df['humidity']<100]\n",
    "clean_city_df"
   ]
  },
  {
   "cell_type": "markdown",
   "metadata": {},
   "source": [
    "## Plotting the Data\n",
    "* Use proper labeling of the plots using plot titles (including date of analysis) and axes labels.\n",
    "* Save the plotted figures as .pngs."
   ]
  },
  {
   "cell_type": "markdown",
   "metadata": {},
   "source": [
    "## Latitude vs. Temperature Plot"
   ]
  },
  {
   "cell_type": "code",
   "execution_count": 34,
   "metadata": {
    "scrolled": true
   },
   "outputs": [
    {
     "data": {
      "image/png": "[encoded data removed]",
      "text/plain": [
       "<Figure size 432x288 with 1 Axes>"
      ]
     },
     "metadata": {
      "needs_background": "light"
     },
     "output_type": "display_data"
    }
   ],
   "source": [
    "# Build a scatter plot\n",
    "plt.scatter(clean_city_df[\"latitude\"], clean_city_df[\"temp\"], marker=\"o\")\n",
    "\n",
    "# Incorporate the other graph properties\n",
    "plt.title(\"Temperature in World Cities\")\n",
    "plt.ylabel(\"Temperature (Fahrenheit)\")\n",
    "plt.xlabel(\"Latitude\")\n",
    "plt.grid(True)\n",
    "\n",
    "# Save the figure\n",
    "plt.savefig(\"TemperatureInWorldCities.png\")\n",
    "\n",
    "# Show plot\n",
    "plt.show()"
   ]
  },
  {
   "cell_type": "markdown",
   "metadata": {},
   "source": [
    "## Latitude vs. Humidity Plot"
   ]
  },
  {
   "cell_type": "code",
   "execution_count": 24,
   "metadata": {},
   "outputs": [
    {
     "data": {
      "image/png": "[encoded data removed]",
      "text/plain": [
       "<Figure size 432x288 with 1 Axes>"
      ]
     },
     "metadata": {
      "needs_background": "light"
     },
     "output_type": "display_data"
    }
   ],
   "source": [
    "# Build a scatter plot\n",
    "plt.scatter(clean_city_df[\"humidity\"], clean_city_df[\"humidity\"], marker=\"o\")\n",
    "\n",
    "# Incorporate the other graph properties\n",
    "plt.title(\"Humidity in World Cities\")\n",
    "plt.ylabel(\"Humidity\")\n",
    "plt.xlabel(\"Latitude\")\n",
    "plt.grid(True)\n",
    "\n",
    "# Save the figure\n",
    "plt.savefig(\"HumidityInWorldCities.png\")\n",
    "\n",
    "# Show plot\n",
    "plt.show()"
   ]
  },
  {
   "cell_type": "markdown",
   "metadata": {},
   "source": [
    "## Latitude vs. Cloudiness Plot"
   ]
  },
  {
   "cell_type": "code",
   "execution_count": 25,
   "metadata": {},
   "outputs": [
    {
     "data": {
      "image/png": "[encoded data removed]",
      "text/plain": [
       "<Figure size 432x288 with 1 Axes>"
      ]
     },
     "metadata": {
      "needs_background": "light"
     },
     "output_type": "display_data"
    }
   ],
   "source": [
    "# Build a scatter plot\n",
    "plt.scatter(clean_city_df[\"cloudiness\"], clean_city_df[\"cloudiness\"], marker=\"o\")\n",
    "\n",
    "# Incorporate the other graph properties\n",
    "plt.title(\"Cloudiness in World Cities\")\n",
    "plt.ylabel(\"Cloudiness\")\n",
    "plt.xlabel(\"Latitude\")\n",
    "plt.grid(True)\n",
    "\n",
    "# Save the figure\n",
    "plt.savefig(\"CloudinessInWorldCities.png\")\n",
    "\n",
    "# Show plot\n",
    "plt.show()"
   ]
  },
  {
   "cell_type": "markdown",
   "metadata": {},
   "source": [
    "## Latitude vs. Wind Speed Plot"
   ]
  },
  {
   "cell_type": "code",
   "execution_count": 26,
   "metadata": {},
   "outputs": [
    {
     "data": {
      "image/png": "[encoded data removed]",
      "text/plain": [
       "<Figure size 432x288 with 1 Axes>"
      ]
     },
     "metadata": {
      "needs_background": "light"
     },
     "output_type": "display_data"
    }
   ],
   "source": [
    "# Build a scatter plot\n",
    "plt.scatter(clean_city_df[\"wind_speed\"], clean_city_df[\"wind_speed\"], marker=\"o\")\n",
    "\n",
    "# Incorporate the other graph properties\n",
    "plt.title(\"Wind Speed in World Cities\")\n",
    "plt.ylabel(\"Wind Speed\")\n",
    "plt.xlabel(\"Latitude\")\n",
    "plt.grid(True)\n",
    "\n",
    "# Save the figure\n",
    "plt.savefig(\"WindSpeedInWorldCities.png\")\n",
    "\n",
    "# Show plot\n",
    "plt.show()"
   ]
  },
  {
   "cell_type": "markdown",
   "metadata": {},
   "source": [
    "## Linear Regression"
   ]
  },
  {
   "cell_type": "code",
   "execution_count": null,
   "metadata": {},
   "outputs": [],
   "source": []
  },
  {
   "cell_type": "markdown",
   "metadata": {},
   "source": [
    "####  Northern Hemisphere - Max Temp vs. Latitude Linear Regression"
   ]
  },
  {
   "cell_type": "code",
   "execution_count": null,
   "metadata": {},
   "outputs": [],
   "source": []
  },
  {
   "cell_type": "markdown",
   "metadata": {},
   "source": [
    "####  Southern Hemisphere - Max Temp vs. Latitude Linear Regression"
   ]
  },
  {
   "cell_type": "code",
   "execution_count": null,
   "metadata": {},
   "outputs": [],
   "source": []
  },
  {
   "cell_type": "markdown",
   "metadata": {},
   "source": [
    "####  Northern Hemisphere - Humidity (%) vs. Latitude Linear Regression"
   ]
  },
  {
   "cell_type": "code",
   "execution_count": null,
   "metadata": {},
   "outputs": [],
   "source": []
  },
  {
   "cell_type": "markdown",
   "metadata": {},
   "source": [
    "####  Southern Hemisphere - Humidity (%) vs. Latitude Linear Regression"
   ]
  },
  {
   "cell_type": "code",
   "execution_count": null,
   "metadata": {},
   "outputs": [],
   "source": []
  },
  {
   "cell_type": "markdown",
   "metadata": {},
   "source": [
    "####  Northern Hemisphere - Cloudiness (%) vs. Latitude Linear Regression"
   ]
  },
  {
   "cell_type": "code",
   "execution_count": null,
   "metadata": {},
   "outputs": [],
   "source": []
  },
  {
   "cell_type": "markdown",
   "metadata": {},
   "source": [
    "####  Southern Hemisphere - Cloudiness (%) vs. Latitude Linear Regression"
   ]
  },
  {
   "cell_type": "code",
   "execution_count": null,
   "metadata": {},
   "outputs": [],
   "source": []
  },
  {
   "cell_type": "markdown",
   "metadata": {},
   "source": [
    "####  Northern Hemisphere - Wind Speed (mph) vs. Latitude Linear Regression"
   ]
  },
  {
   "cell_type": "code",
   "execution_count": null,
   "metadata": {},
   "outputs": [],
   "source": []
  },
  {
   "cell_type": "markdown",
   "metadata": {},
   "source": [
    "####  Southern Hemisphere - Wind Speed (mph) vs. Latitude Linear Regression"
   ]
  },
  {
   "cell_type": "code",
   "execution_count": null,
   "metadata": {},
   "outputs": [],
   "source": []
  },
  {
   "cell_type": "code",
   "execution_count": null,
   "metadata": {},
   "outputs": [],
   "source": []
  }
 ],
 "metadata": {
  "anaconda-cloud": {},
  "kernel_info": {
   "name": "python3"
  },
  "kernelspec": {
   "display_name": "Python 3",
   "language": "python",
   "name": "python3"
  },
  "language_info": {
   "codemirror_mode": {
    "name": "ipython",
    "version": 3
   },
   "file_extension": ".py",
   "mimetype": "text/x-python",
   "name": "python",
   "nbconvert_exporter": "python",
   "pygments_lexer": "ipython3",
   "version": "3.6.12"
  },
  "latex_envs": {
   "LaTeX_envs_menu_present": true,
   "autoclose": false,
   "autocomplete": true,
   "bibliofile": "biblio.bib",
   "cite_by": "apalike",
   "current_citInitial": 1,
   "eqLabelWithNumbers": true,
   "eqNumInitial": 1,
   "hotkeys": {
    "equation": "Ctrl-E",
    "itemize": "Ctrl-I"
   },
   "labels_anchors": false,
   "latex_user_defs": false,
   "report_style_numbering": false,
   "user_envs_cfg": false
  },
  "nteract": {
   "version": "0.12.3"
  }
 },
 "nbformat": 4,
 "nbformat_minor": 2
}
