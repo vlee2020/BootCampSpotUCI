{
 "cells": [
  {
   "cell_type": "markdown",
   "metadata": {},
   "source": [
    "# WeatherPy\n",
    "----\n",
    "\n",
    "#### Note\n",
    "* Instructions have been included for each segment. You do not have to follow them exactly, but they are included to help you think through the steps."
   ]
  },
  {
   "cell_type": "code",
   "execution_count": 1,
   "metadata": {
    "scrolled": true
   },
   "outputs": [
    {
     "name": "stdout",
     "output_type": "stream",
     "text": [
      "Requirement already satisfied: citipy in c:\\users\\findv\\anaconda3\\envs\\pythondata\\lib\\site-packages (0.0.5)\n",
      "Requirement already satisfied: kdtree>=0.12 in c:\\users\\findv\\anaconda3\\envs\\pythondata\\lib\\site-packages (from citipy) (0.16)\n"
     ]
    }
   ],
   "source": [
    "#Install citypy - Note to add an \"!\" in front of pip when downloading packages in the cloud\n",
    "!pip install citipy"
   ]
  },
  {
   "cell_type": "code",
   "execution_count": 88,
   "metadata": {
    "scrolled": true
   },
   "outputs": [],
   "source": [
    "#Initiate Dependencies\n",
    "\n",
    "import json\n",
    "import requests\n",
    "import pandas as pd\n",
    "import numpy as np\n",
    "import matplotlib.pyplot as plt\n",
    "import gmaps\n",
    "from scipy.stats import linregress\n",
    "from pprint import pprint   #pretty print api data structures\n",
    "from random import uniform  #will enable random sampling of weatherAPI data\n",
    "from citipy import citipy   #to use nearest_city method from citipy\n",
    "from config import weather_api_key\n",
    "from config import g_key\n",
    "\n",
    "url = 'http://api.openweathermap.org/data/2.5/weather?q='\n",
    "units = 'imperial'\n"
   ]
  },
  {
   "cell_type": "markdown",
   "metadata": {},
   "source": [
    "## Generate Cities List\n",
    "### Perform API Calls\n",
    "* Perform a weather check on each city using a series of successive API calls.\n",
    "* Include a print log of each city as it'sbeing processed (with the city number and city name)."
   ]
  },
  {
   "cell_type": "code",
   "execution_count": 89,
   "metadata": {},
   "outputs": [
    {
     "name": "stdout",
     "output_type": "stream",
     "text": [
      "ID: 2636638, City Name: Stromness\n",
      "ID: 3833367, City Name: Ushuaia\n",
      "ID: 2155415, City Name: New Norfolk\n",
      "ID: 5848280, City Name: Kapaa\n",
      "ID: 2208248, City Name: Kaitangata\n",
      "ID: 3874787, City Name: Punta Arenas\n",
      "ID: 3370903, City Name: Jamestown\n",
      "ID: 3652764, City Name: Puerto Ayora\n",
      "ID: 204953, City Name: Tshikapa\n",
      "ID: 2110227, City Name: Butaritari\n"
     ]
    }
   ],
   "source": [
    "cities = []\n",
    "weather = []\n",
    "\n",
    "\n",
    "while len(cities) < 10:\n",
    "\n",
    "    #Generate random city to search\n",
    "    longitude = round(uniform(-180,180),3) #this returns a random float. Parameters define lower and upper limits\n",
    "    latitude = round(uniform(-90, 90), 3) #this returns a random float. Parameters define lower and upper limits\n",
    "    \n",
    "    city = citipy.nearest_city(latitude, longitude)\n",
    "    city_name = city.city_name\n",
    "    country_code = city.country_code\n",
    "    \n",
    "    random_city = (f'{city_name}, {country_code}')\n",
    "      \n",
    "    #Perform API call\n",
    "    query_url = url + city_name + ',' + country_code + \"&APPID=\" + weather_api_key + \"&units=\" + units\n",
    "    response = requests.get(query_url)\n",
    "    weather_json = response.json()\n",
    "\n",
    "    if weather_json['cod'] == 200:\n",
    "        id = weather_json['id']\n",
    "        city_name = weather_json['name']\n",
    "        cities.append(random_city)\n",
    "        weather.append(weather_json)\n",
    "        \n",
    "        #Print Log\n",
    "        print(f'ID: {id}, City Name: {city_name}')\n",
    "   \n",
    "    else:\n",
    "        pass\n"
   ]
  },
  {
   "cell_type": "code",
   "execution_count": 90,
   "metadata": {},
   "outputs": [
    {
     "name": "stdout",
     "output_type": "stream",
     "text": [
      "{'base': 'stations',\n",
      " 'clouds': {'all': 100},\n",
      " 'cod': 200,\n",
      " 'coord': {'lat': 3.07, 'lon': 172.79},\n",
      " 'dt': 1603118737,\n",
      " 'id': 2110227,\n",
      " 'main': {'feels_like': 84.02,\n",
      "          'grnd_level': 1007,\n",
      "          'humidity': 73,\n",
      "          'pressure': 1007,\n",
      "          'sea_level': 1007,\n",
      "          'temp': 81.73,\n",
      "          'temp_max': 81.73,\n",
      "          'temp_min': 81.73},\n",
      " 'name': 'Butaritari',\n",
      " 'sys': {'country': 'KI', 'sunrise': 1603131141, 'sunset': 1603174478},\n",
      " 'timezone': 43200,\n",
      " 'visibility': 10000,\n",
      " 'weather': [{'description': 'overcast clouds',\n",
      "              'icon': '04n',\n",
      "              'id': 804,\n",
      "              'main': 'Clouds'}],\n",
      " 'wind': {'deg': 100, 'speed': 11.54}}\n"
     ]
    }
   ],
   "source": [
    "# My validations\n",
    "\n",
    "#print(len(np.unique(cities)))\n",
    "#print(cities)\n",
    "pprint(weather_json) \n",
    "#id\n",
    "#lat\n"
   ]
  },
  {
   "cell_type": "markdown",
   "metadata": {},
   "source": [
    "### Convert Raw Data to DataFrame\n",
    "* Export the city data into a .csv.\n",
    "* Display the DataFrame"
   ]
  },
  {
   "cell_type": "code",
   "execution_count": 96,
   "metadata": {},
   "outputs": [
    {
     "data": {
      "text/html": [
       "<div>\n",
       "<style scoped>\n",
       "    .dataframe tbody tr th:only-of-type {\n",
       "        vertical-align: middle;\n",
       "    }\n",
       "\n",
       "    .dataframe tbody tr th {\n",
       "        vertical-align: top;\n",
       "    }\n",
       "\n",
       "    .dataframe thead th {\n",
       "        text-align: right;\n",
       "    }\n",
       "</style>\n",
       "<table border=\"1\" class=\"dataframe\">\n",
       "  <thead>\n",
       "    <tr style=\"text-align: right;\">\n",
       "      <th></th>\n",
       "      <th>id</th>\n",
       "      <th>name</th>\n",
       "      <th>country</th>\n",
       "      <th>latitude</th>\n",
       "      <th>longitude</th>\n",
       "      <th>temp</th>\n",
       "      <th>temp_max</th>\n",
       "      <th>temp_min</th>\n",
       "      <th>humidity</th>\n",
       "      <th>cloudiness</th>\n",
       "      <th>wind_speed</th>\n",
       "    </tr>\n",
       "  </thead>\n",
       "  <tbody>\n",
       "    <tr>\n",
       "      <th>0</th>\n",
       "      <td>2636638</td>\n",
       "      <td>Stromness</td>\n",
       "      <td>GB</td>\n",
       "      <td>58.97</td>\n",
       "      <td>-3.30</td>\n",
       "      <td>50.00</td>\n",
       "      <td>50.00</td>\n",
       "      <td>50.00</td>\n",
       "      <td>87.0</td>\n",
       "      <td>75</td>\n",
       "      <td>9.17</td>\n",
       "    </tr>\n",
       "    <tr>\n",
       "      <th>1</th>\n",
       "      <td>3833367</td>\n",
       "      <td>Ushuaia</td>\n",
       "      <td>AR</td>\n",
       "      <td>-54.80</td>\n",
       "      <td>-68.30</td>\n",
       "      <td>35.60</td>\n",
       "      <td>35.60</td>\n",
       "      <td>35.60</td>\n",
       "      <td>100.0</td>\n",
       "      <td>90</td>\n",
       "      <td>36.91</td>\n",
       "    </tr>\n",
       "    <tr>\n",
       "      <th>2</th>\n",
       "      <td>2155415</td>\n",
       "      <td>New Norfolk</td>\n",
       "      <td>AU</td>\n",
       "      <td>-42.78</td>\n",
       "      <td>147.06</td>\n",
       "      <td>44.29</td>\n",
       "      <td>45.00</td>\n",
       "      <td>44.01</td>\n",
       "      <td>76.0</td>\n",
       "      <td>63</td>\n",
       "      <td>2.46</td>\n",
       "    </tr>\n",
       "    <tr>\n",
       "      <th>3</th>\n",
       "      <td>5848280</td>\n",
       "      <td>Kapaa</td>\n",
       "      <td>US</td>\n",
       "      <td>22.08</td>\n",
       "      <td>-159.32</td>\n",
       "      <td>73.00</td>\n",
       "      <td>73.00</td>\n",
       "      <td>73.00</td>\n",
       "      <td>76.0</td>\n",
       "      <td>2</td>\n",
       "      <td>8.23</td>\n",
       "    </tr>\n",
       "    <tr>\n",
       "      <th>4</th>\n",
       "      <td>2208248</td>\n",
       "      <td>Kaitangata</td>\n",
       "      <td>NZ</td>\n",
       "      <td>-46.28</td>\n",
       "      <td>169.85</td>\n",
       "      <td>46.00</td>\n",
       "      <td>46.00</td>\n",
       "      <td>46.00</td>\n",
       "      <td>84.0</td>\n",
       "      <td>39</td>\n",
       "      <td>3.00</td>\n",
       "    </tr>\n",
       "    <tr>\n",
       "      <th>5</th>\n",
       "      <td>3874787</td>\n",
       "      <td>Punta Arenas</td>\n",
       "      <td>CL</td>\n",
       "      <td>-53.15</td>\n",
       "      <td>-70.92</td>\n",
       "      <td>42.40</td>\n",
       "      <td>42.80</td>\n",
       "      <td>42.01</td>\n",
       "      <td>70.0</td>\n",
       "      <td>40</td>\n",
       "      <td>34.45</td>\n",
       "    </tr>\n",
       "    <tr>\n",
       "      <th>6</th>\n",
       "      <td>3370903</td>\n",
       "      <td>Jamestown</td>\n",
       "      <td>SH</td>\n",
       "      <td>-15.94</td>\n",
       "      <td>-5.72</td>\n",
       "      <td>61.68</td>\n",
       "      <td>61.68</td>\n",
       "      <td>61.68</td>\n",
       "      <td>98.0</td>\n",
       "      <td>71</td>\n",
       "      <td>21.07</td>\n",
       "    </tr>\n",
       "    <tr>\n",
       "      <th>7</th>\n",
       "      <td>3652764</td>\n",
       "      <td>Puerto Ayora</td>\n",
       "      <td>EC</td>\n",
       "      <td>-0.74</td>\n",
       "      <td>-90.35</td>\n",
       "      <td>71.01</td>\n",
       "      <td>71.01</td>\n",
       "      <td>71.01</td>\n",
       "      <td>88.0</td>\n",
       "      <td>100</td>\n",
       "      <td>11.99</td>\n",
       "    </tr>\n",
       "    <tr>\n",
       "      <th>8</th>\n",
       "      <td>204953</td>\n",
       "      <td>Tshikapa</td>\n",
       "      <td>CD</td>\n",
       "      <td>-6.42</td>\n",
       "      <td>20.80</td>\n",
       "      <td>88.07</td>\n",
       "      <td>88.07</td>\n",
       "      <td>88.07</td>\n",
       "      <td>61.0</td>\n",
       "      <td>20</td>\n",
       "      <td>1.52</td>\n",
       "    </tr>\n",
       "    <tr>\n",
       "      <th>9</th>\n",
       "      <td>2110227</td>\n",
       "      <td>Butaritari</td>\n",
       "      <td>KI</td>\n",
       "      <td>3.07</td>\n",
       "      <td>172.79</td>\n",
       "      <td>81.73</td>\n",
       "      <td>81.73</td>\n",
       "      <td>81.73</td>\n",
       "      <td>73.0</td>\n",
       "      <td>100</td>\n",
       "      <td>11.54</td>\n",
       "    </tr>\n",
       "  </tbody>\n",
       "</table>\n",
       "</div>"
      ],
      "text/plain": [
       "        id          name country  latitude  longitude   temp  temp_max  \\\n",
       "0  2636638     Stromness      GB     58.97      -3.30  50.00     50.00   \n",
       "1  3833367       Ushuaia      AR    -54.80     -68.30  35.60     35.60   \n",
       "2  2155415   New Norfolk      AU    -42.78     147.06  44.29     45.00   \n",
       "3  5848280         Kapaa      US     22.08    -159.32  73.00     73.00   \n",
       "4  2208248    Kaitangata      NZ    -46.28     169.85  46.00     46.00   \n",
       "5  3874787  Punta Arenas      CL    -53.15     -70.92  42.40     42.80   \n",
       "6  3370903     Jamestown      SH    -15.94      -5.72  61.68     61.68   \n",
       "7  3652764  Puerto Ayora      EC     -0.74     -90.35  71.01     71.01   \n",
       "8   204953      Tshikapa      CD     -6.42      20.80  88.07     88.07   \n",
       "9  2110227    Butaritari      KI      3.07     172.79  81.73     81.73   \n",
       "\n",
       "   temp_min  humidity  cloudiness  wind_speed  \n",
       "0     50.00      87.0          75        9.17  \n",
       "1     35.60     100.0          90       36.91  \n",
       "2     44.01      76.0          63        2.46  \n",
       "3     73.00      76.0           2        8.23  \n",
       "4     46.00      84.0          39        3.00  \n",
       "5     42.01      70.0          40       34.45  \n",
       "6     61.68      98.0          71       21.07  \n",
       "7     71.01      88.0         100       11.99  \n",
       "8     88.07      61.0          20        1.52  \n",
       "9     81.73      73.0         100       11.54  "
      ]
     },
     "execution_count": 96,
     "metadata": {},
     "output_type": "execute_result"
    }
   ],
   "source": [
    "# Create Dataframe that contains sample city population along with weather data\n",
    "city_df = pd.DataFrame.from_dict(weather, orient='columns')\n",
    "\n",
    "#Export city_df to csv (unflattened)\n",
    "city_df.to_csv(\"citydata.csv\", index=False, header=True)\n",
    "\n",
    "# Flatten city_df dataframe\n",
    "city_df = pd.concat([city_df, city_df['coord'].apply(pd.Series)], axis = 1).drop('coord', axis =1)\n",
    "city_df = pd.concat([city_df, city_df['main'].apply(pd.Series)], axis = 1).drop('main', axis =1)\n",
    "city_df = pd.concat([city_df, city_df['wind'].apply(pd.Series)], axis = 1).drop('wind', axis =1)\n",
    "city_df = pd.concat([city_df, city_df['sys'].apply(pd.Series)], axis = 1).drop('sys', axis =1)\n",
    "city_df = pd.concat([city_df, city_df['weather'].apply(pd.Series)], axis = 1).drop('weather', axis =1)\n",
    "city_df = pd.concat([city_df, city_df['clouds'].apply(pd.Series)], axis = 1).drop('clouds', axis =1)\n",
    "\n",
    "# Ensure there are no duplicated column names\n",
    "cols=pd.Series(city_df.columns)\n",
    "\n",
    "for dup in cols[cols.duplicated()].unique(): \n",
    "    cols[cols[cols == dup].index.values.tolist()] = [dup + '.' + str(i) if i != 0 else dup for i in range(sum(cols == dup))]\n",
    "city_df.columns=cols\n",
    "\n",
    "#Export flattened city_df to csv \n",
    "city_df.to_csv(\"citydata_flat.csv\", index=False, header=True)\n",
    "\n",
    "# Rename and display DataFrame\n",
    "city_df = city_df[['id', 'name', 'country', 'lat', 'lon', 'temp', 'temp_max', 'temp_min', 'humidity', 'all', 'speed']]\n",
    "city_df = city_df.rename(columns = {'lat':'latitude', 'lon':'longitude','all': 'cloudiness', 'speed': 'wind_speed'})\n",
    "city_df\n",
    "\n"
   ]
  },
  {
   "cell_type": "markdown",
   "metadata": {},
   "source": [
    "## Inspect the data and remove the cities where the humidity > 100%.\n",
    "----\n",
    "Skip this step if there are no cities that have humidity > 100%. "
   ]
  },
  {
   "cell_type": "code",
   "execution_count": 97,
   "metadata": {},
   "outputs": [],
   "source": [
    "clean_city_df = city_df[city_df['humidity']<100]\n",
    "clean_city_df\n",
    "\n",
    "#Export clean_city_df to csv \n",
    "clean_city_df.to_csv(\"clean_citydata_flat.csv\", index=False, header=True)"
   ]
  },
  {
   "cell_type": "markdown",
   "metadata": {},
   "source": [
    "## Plotting the Data\n",
    "* Use proper labeling of the plots using plot titles (including date of analysis) and axes labels.\n",
    "* Save the plotted figures as .pngs."
   ]
  },
  {
   "cell_type": "markdown",
   "metadata": {},
   "source": [
    "## Latitude vs. Temperature Plot"
   ]
  },
  {
   "cell_type": "code",
   "execution_count": 72,
   "metadata": {
    "scrolled": true
   },
   "outputs": [
    {
     "data": {
      "image/png": "[encoded data removed]",
      "text/plain": [
       "<Figure size 432x288 with 1 Axes>"
      ]
     },
     "metadata": {
      "needs_background": "light"
     },
     "output_type": "display_data"
    }
   ],
   "source": [
    "# Build a scatter plot\n",
    "plt.scatter(clean_city_df[\"latitude\"], clean_city_df[\"temp\"], marker=\"o\")\n",
    "\n",
    "# Incorporate the other graph properties\n",
    "plt.title(\"Temperature in World Cities\")\n",
    "plt.ylabel(\"Temperature (Fahrenheit)\")\n",
    "plt.xlabel(\"Latitude\")\n",
    "plt.grid(True)\n",
    "\n",
    "# Save the figure\n",
    "plt.savefig(\"TemperatureInWorldCities.png\")\n",
    "\n",
    "# Show plot\n",
    "plt.show()"
   ]
  },
  {
   "cell_type": "markdown",
   "metadata": {},
   "source": [
    "## Latitude vs. Humidity Plot"
   ]
  },
  {
   "cell_type": "code",
   "execution_count": 73,
   "metadata": {},
   "outputs": [
    {
     "data": {
      "image/png": "[encoded data removed]",
      "text/plain": [
       "<Figure size 432x288 with 1 Axes>"
      ]
     },
     "metadata": {
      "needs_background": "light"
     },
     "output_type": "display_data"
    }
   ],
   "source": [
    "# Build a scatter plot\n",
    "plt.scatter(clean_city_df[\"humidity\"], clean_city_df[\"humidity\"], marker=\"o\")\n",
    "\n",
    "# Incorporate the other graph properties\n",
    "plt.title(\"Humidity in World Cities\")\n",
    "plt.ylabel(\"Humidity\")\n",
    "plt.xlabel(\"Latitude\")\n",
    "plt.grid(True)\n",
    "\n",
    "# Save the figure\n",
    "plt.savefig(\"HumidityInWorldCities.png\")\n",
    "\n",
    "# Show plot\n",
    "plt.show()"
   ]
  },
  {
   "cell_type": "markdown",
   "metadata": {},
   "source": [
    "## Latitude vs. Cloudiness Plot"
   ]
  },
  {
   "cell_type": "code",
   "execution_count": 74,
   "metadata": {},
   "outputs": [
    {
     "data": {
      "image/png": "[encoded data removed]",
      "text/plain": [
       "<Figure size 432x288 with 1 Axes>"
      ]
     },
     "metadata": {
      "needs_background": "light"
     },
     "output_type": "display_data"
    }
   ],
   "source": [
    "# Build a scatter plot\n",
    "plt.scatter(clean_city_df[\"cloudiness\"], clean_city_df[\"cloudiness\"], marker=\"o\")\n",
    "\n",
    "# Incorporate the other graph properties\n",
    "plt.title(\"Cloudiness in World Cities\")\n",
    "plt.ylabel(\"Cloudiness\")\n",
    "plt.xlabel(\"Latitude\")\n",
    "plt.grid(True)\n",
    "\n",
    "# Save the figure\n",
    "plt.savefig(\"CloudinessInWorldCities.png\")\n",
    "\n",
    "# Show plot\n",
    "plt.show()"
   ]
  },
  {
   "cell_type": "markdown",
   "metadata": {},
   "source": [
    "## Latitude vs. Wind Speed Plot"
   ]
  },
  {
   "cell_type": "code",
   "execution_count": 75,
   "metadata": {},
   "outputs": [
    {
     "data": {
      "image/png": "[encoded data removed]",
      "text/plain": [
       "<Figure size 432x288 with 1 Axes>"
      ]
     },
     "metadata": {
      "needs_background": "light"
     },
     "output_type": "display_data"
    }
   ],
   "source": [
    "# Build a scatter plot\n",
    "plt.scatter(clean_city_df[\"wind_speed\"], clean_city_df[\"wind_speed\"], marker=\"o\")\n",
    "\n",
    "# Incorporate the other graph properties\n",
    "plt.title(\"Wind Speed in World Cities\")\n",
    "plt.ylabel(\"Wind Speed\")\n",
    "plt.xlabel(\"Latitude\")\n",
    "plt.grid(True)\n",
    "\n",
    "# Save the figure\n",
    "plt.savefig(\"WindSpeedInWorldCities.png\")\n",
    "\n",
    "# Show plot\n",
    "plt.show()"
   ]
  },
  {
   "cell_type": "markdown",
   "metadata": {},
   "source": [
    "## Linear Regression"
   ]
  },
  {
   "cell_type": "code",
   "execution_count": 76,
   "metadata": {
    "scrolled": true
   },
   "outputs": [
    {
     "name": "stderr",
     "output_type": "stream",
     "text": [
      "C:\\Users\\findv\\anaconda3\\envs\\PythonData\\lib\\site-packages\\ipykernel_launcher.py:2: UserWarning: Boolean Series key will be reindexed to match DataFrame index.\n",
      "  \n"
     ]
    },
    {
     "data": {
      "text/html": [
       "<div>\n",
       "<style scoped>\n",
       "    .dataframe tbody tr th:only-of-type {\n",
       "        vertical-align: middle;\n",
       "    }\n",
       "\n",
       "    .dataframe tbody tr th {\n",
       "        vertical-align: top;\n",
       "    }\n",
       "\n",
       "    .dataframe thead th {\n",
       "        text-align: right;\n",
       "    }\n",
       "</style>\n",
       "<table border=\"1\" class=\"dataframe\">\n",
       "  <thead>\n",
       "    <tr style=\"text-align: right;\">\n",
       "      <th></th>\n",
       "      <th>id</th>\n",
       "      <th>name</th>\n",
       "      <th>country</th>\n",
       "      <th>latitude</th>\n",
       "      <th>longitude</th>\n",
       "      <th>temp</th>\n",
       "      <th>temp_max</th>\n",
       "      <th>temp_min</th>\n",
       "      <th>humidity</th>\n",
       "      <th>cloudiness</th>\n",
       "      <th>wind_speed</th>\n",
       "    </tr>\n",
       "  </thead>\n",
       "  <tbody>\n",
       "    <tr>\n",
       "      <th>2</th>\n",
       "      <td>2633274</td>\n",
       "      <td>Akureyri</td>\n",
       "      <td>IS</td>\n",
       "      <td>65.68</td>\n",
       "      <td>-18.09</td>\n",
       "      <td>39.20</td>\n",
       "      <td>39.20</td>\n",
       "      <td>39.20</td>\n",
       "      <td>69.0</td>\n",
       "      <td>75</td>\n",
       "      <td>4.70</td>\n",
       "    </tr>\n",
       "    <tr>\n",
       "      <th>3</th>\n",
       "      <td>2126123</td>\n",
       "      <td>Chokurdakh</td>\n",
       "      <td>RU</td>\n",
       "      <td>70.63</td>\n",
       "      <td>147.92</td>\n",
       "      <td>17.10</td>\n",
       "      <td>17.10</td>\n",
       "      <td>17.10</td>\n",
       "      <td>98.0</td>\n",
       "      <td>99</td>\n",
       "      <td>7.05</td>\n",
       "    </tr>\n",
       "    <tr>\n",
       "      <th>4</th>\n",
       "      <td>3493032</td>\n",
       "      <td>San Pedro de Macorís</td>\n",
       "      <td>DO</td>\n",
       "      <td>18.46</td>\n",
       "      <td>-69.30</td>\n",
       "      <td>84.49</td>\n",
       "      <td>86.00</td>\n",
       "      <td>82.99</td>\n",
       "      <td>89.0</td>\n",
       "      <td>75</td>\n",
       "      <td>7.23</td>\n",
       "    </tr>\n",
       "    <tr>\n",
       "      <th>9</th>\n",
       "      <td>5848280</td>\n",
       "      <td>Kapaa</td>\n",
       "      <td>US</td>\n",
       "      <td>22.08</td>\n",
       "      <td>-159.32</td>\n",
       "      <td>73.99</td>\n",
       "      <td>73.99</td>\n",
       "      <td>73.99</td>\n",
       "      <td>77.0</td>\n",
       "      <td>3</td>\n",
       "      <td>8.75</td>\n",
       "    </tr>\n",
       "  </tbody>\n",
       "</table>\n",
       "</div>"
      ],
      "text/plain": [
       "        id                  name country  latitude  longitude   temp  \\\n",
       "2  2633274              Akureyri      IS     65.68     -18.09  39.20   \n",
       "3  2126123            Chokurdakh      RU     70.63     147.92  17.10   \n",
       "4  3493032  San Pedro de Macorís      DO     18.46     -69.30  84.49   \n",
       "9  5848280                 Kapaa      US     22.08    -159.32  73.99   \n",
       "\n",
       "   temp_max  temp_min  humidity  cloudiness  wind_speed  \n",
       "2     39.20     39.20      69.0          75        4.70  \n",
       "3     17.10     17.10      98.0          99        7.05  \n",
       "4     86.00     82.99      89.0          75        7.23  \n",
       "9     73.99     73.99      77.0           3        8.75  "
      ]
     },
     "execution_count": 76,
     "metadata": {},
     "output_type": "execute_result"
    }
   ],
   "source": [
    "# Create Northern hemisphere df\n",
    "northern_hemisphere_df = clean_city_df[city_df['latitude']>=0]\n",
    "northern_hemisphere_df\n"
   ]
  },
  {
   "cell_type": "code",
   "execution_count": 77,
   "metadata": {},
   "outputs": [
    {
     "name": "stderr",
     "output_type": "stream",
     "text": [
      "C:\\Users\\findv\\anaconda3\\envs\\PythonData\\lib\\site-packages\\ipykernel_launcher.py:2: UserWarning: Boolean Series key will be reindexed to match DataFrame index.\n",
      "  \n"
     ]
    },
    {
     "data": {
      "text/html": [
       "<div>\n",
       "<style scoped>\n",
       "    .dataframe tbody tr th:only-of-type {\n",
       "        vertical-align: middle;\n",
       "    }\n",
       "\n",
       "    .dataframe tbody tr th {\n",
       "        vertical-align: top;\n",
       "    }\n",
       "\n",
       "    .dataframe thead th {\n",
       "        text-align: right;\n",
       "    }\n",
       "</style>\n",
       "<table border=\"1\" class=\"dataframe\">\n",
       "  <thead>\n",
       "    <tr style=\"text-align: right;\">\n",
       "      <th></th>\n",
       "      <th>id</th>\n",
       "      <th>name</th>\n",
       "      <th>country</th>\n",
       "      <th>latitude</th>\n",
       "      <th>longitude</th>\n",
       "      <th>temp</th>\n",
       "      <th>temp_max</th>\n",
       "      <th>temp_min</th>\n",
       "      <th>humidity</th>\n",
       "      <th>cloudiness</th>\n",
       "      <th>wind_speed</th>\n",
       "    </tr>\n",
       "  </thead>\n",
       "  <tbody>\n",
       "    <tr>\n",
       "      <th>0</th>\n",
       "      <td>964432</td>\n",
       "      <td>Port Alfred</td>\n",
       "      <td>ZA</td>\n",
       "      <td>-33.59</td>\n",
       "      <td>26.89</td>\n",
       "      <td>70.97</td>\n",
       "      <td>70.97</td>\n",
       "      <td>70.97</td>\n",
       "      <td>73.0</td>\n",
       "      <td>86</td>\n",
       "      <td>17.81</td>\n",
       "    </tr>\n",
       "    <tr>\n",
       "      <th>5</th>\n",
       "      <td>2206939</td>\n",
       "      <td>Bluff</td>\n",
       "      <td>NZ</td>\n",
       "      <td>-46.60</td>\n",
       "      <td>168.33</td>\n",
       "      <td>46.99</td>\n",
       "      <td>46.99</td>\n",
       "      <td>46.99</td>\n",
       "      <td>90.0</td>\n",
       "      <td>97</td>\n",
       "      <td>10.00</td>\n",
       "    </tr>\n",
       "    <tr>\n",
       "      <th>6</th>\n",
       "      <td>2075265</td>\n",
       "      <td>Busselton</td>\n",
       "      <td>AU</td>\n",
       "      <td>-33.65</td>\n",
       "      <td>115.33</td>\n",
       "      <td>59.67</td>\n",
       "      <td>62.01</td>\n",
       "      <td>57.99</td>\n",
       "      <td>57.0</td>\n",
       "      <td>1</td>\n",
       "      <td>13.78</td>\n",
       "    </tr>\n",
       "    <tr>\n",
       "      <th>7</th>\n",
       "      <td>3652764</td>\n",
       "      <td>Puerto Ayora</td>\n",
       "      <td>EC</td>\n",
       "      <td>-0.74</td>\n",
       "      <td>-90.35</td>\n",
       "      <td>70.00</td>\n",
       "      <td>70.00</td>\n",
       "      <td>70.00</td>\n",
       "      <td>92.0</td>\n",
       "      <td>100</td>\n",
       "      <td>11.99</td>\n",
       "    </tr>\n",
       "    <tr>\n",
       "      <th>8</th>\n",
       "      <td>2075265</td>\n",
       "      <td>Busselton</td>\n",
       "      <td>AU</td>\n",
       "      <td>-33.65</td>\n",
       "      <td>115.33</td>\n",
       "      <td>59.67</td>\n",
       "      <td>62.01</td>\n",
       "      <td>57.99</td>\n",
       "      <td>57.0</td>\n",
       "      <td>1</td>\n",
       "      <td>13.78</td>\n",
       "    </tr>\n",
       "  </tbody>\n",
       "</table>\n",
       "</div>"
      ],
      "text/plain": [
       "        id          name country  latitude  longitude   temp  temp_max  \\\n",
       "0   964432   Port Alfred      ZA    -33.59      26.89  70.97     70.97   \n",
       "5  2206939         Bluff      NZ    -46.60     168.33  46.99     46.99   \n",
       "6  2075265     Busselton      AU    -33.65     115.33  59.67     62.01   \n",
       "7  3652764  Puerto Ayora      EC     -0.74     -90.35  70.00     70.00   \n",
       "8  2075265     Busselton      AU    -33.65     115.33  59.67     62.01   \n",
       "\n",
       "   temp_min  humidity  cloudiness  wind_speed  \n",
       "0     70.97      73.0          86       17.81  \n",
       "5     46.99      90.0          97       10.00  \n",
       "6     57.99      57.0           1       13.78  \n",
       "7     70.00      92.0         100       11.99  \n",
       "8     57.99      57.0           1       13.78  "
      ]
     },
     "execution_count": 77,
     "metadata": {},
     "output_type": "execute_result"
    }
   ],
   "source": [
    "# Create Southern hemisphere df\n",
    "southern_hemisphere_df = clean_city_df[city_df['latitude']<0]\n",
    "southern_hemisphere_df"
   ]
  },
  {
   "cell_type": "markdown",
   "metadata": {},
   "source": [
    "####  Northern Hemisphere - Max Temp vs. Latitude Linear Regression"
   ]
  },
  {
   "cell_type": "code",
   "execution_count": 78,
   "metadata": {},
   "outputs": [
    {
     "name": "stdout",
     "output_type": "stream",
     "text": [
      "R squared: 0.9429159768612697\n"
     ]
    },
    {
     "data": {
      "image/png": "[encoded data removed]",
      "text/plain": [
       "<Figure size 432x288 with 1 Axes>"
      ]
     },
     "metadata": {
      "needs_background": "light"
     },
     "output_type": "display_data"
    }
   ],
   "source": [
    "## Convert to floats and store Poverty Rate and Bank Count as x and y values\n",
    "x_values = northern_hemisphere_df['latitude'].astype('float')\n",
    "y_values = northern_hemisphere_df['temp_max'].astype('float')\n",
    "\n",
    "# Run linear regression\n",
    "(slope, intercept, rvalue, pvalue, stderr) = linregress(x_values, y_values)\n",
    "regress_values = x_values * slope + intercept\n",
    "line_eq = \"y = \" + str(round(slope,2)) + \"x + \" + str(round(intercept,2))\n",
    "\n",
    "# Plot scatter plot\n",
    "plt.scatter(x_values,y_values)\n",
    "\n",
    "# Plot regression line\n",
    "plt.plot(x_values,regress_values,\"r-\")\n",
    "plt.annotate(line_eq,(6,10),fontsize=15,color=\"red\")\n",
    "\n",
    "# Label plot\n",
    "plt.xlabel('Latitude')\n",
    "plt.ylabel('Max Temp (F)')\n",
    "plt.title('Northern Hemisphere - Max Temp vs Latitude')\n",
    "\n",
    "# Print r square value\n",
    "print(f\"R squared: {rvalue**2}\")\n",
    "\n",
    "# Show plot\n",
    "plt.show()"
   ]
  },
  {
   "cell_type": "markdown",
   "metadata": {},
   "source": [
    "####  Southern Hemisphere - Max Temp vs. Latitude Linear Regression"
   ]
  },
  {
   "cell_type": "code",
   "execution_count": 79,
   "metadata": {},
   "outputs": [
    {
     "name": "stdout",
     "output_type": "stream",
     "text": [
      "R squared: 0.4693884568324156\n"
     ]
    },
    {
     "data": {
      "image/png": "[encoded data removed]",
      "text/plain": [
       "<Figure size 432x288 with 1 Axes>"
      ]
     },
     "metadata": {
      "needs_background": "light"
     },
     "output_type": "display_data"
    }
   ],
   "source": [
    "## Convert to floats and store Poverty Rate and Bank Count as x and y values\n",
    "x_values = southern_hemisphere_df['latitude'].astype('float')\n",
    "y_values = southern_hemisphere_df['temp_max'].astype('float')\n",
    "\n",
    "# Run linear regression\n",
    "(slope, intercept, rvalue, pvalue, stderr) = linregress(x_values, y_values)\n",
    "regress_values = x_values * slope + intercept\n",
    "line_eq = \"y = \" + str(round(slope,2)) + \"x + \" + str(round(intercept,2))\n",
    "\n",
    "# Plot scatter plot\n",
    "plt.scatter(x_values,y_values)\n",
    "\n",
    "# Plot regression line\n",
    "plt.plot(x_values,regress_values,\"r-\")\n",
    "plt.annotate(line_eq,(6,10),fontsize=15,color=\"red\")\n",
    "\n",
    "# Label plot\n",
    "plt.xlabel('Latitude')\n",
    "plt.ylabel('Max Temp (F)')\n",
    "plt.title('Southern Hemisphere - Max Temp vs Latitude')\n",
    "\n",
    "# Print r square value\n",
    "print(f\"R squared: {rvalue**2}\")\n",
    "\n",
    "# Show plot\n",
    "plt.show()"
   ]
  },
  {
   "cell_type": "markdown",
   "metadata": {},
   "source": [
    "####  Northern Hemisphere - Humidity (%) vs. Latitude Linear Regression"
   ]
  },
  {
   "cell_type": "code",
   "execution_count": 80,
   "metadata": {},
   "outputs": [
    {
     "name": "stdout",
     "output_type": "stream",
     "text": [
      "R squared: 0.00480686122616397\n"
     ]
    },
    {
     "data": {
      "image/png": "[encoded data removed]",
      "text/plain": [
       "<Figure size 432x288 with 1 Axes>"
      ]
     },
     "metadata": {
      "needs_background": "light"
     },
     "output_type": "display_data"
    }
   ],
   "source": [
    "## Convert to floats and store Poverty Rate and Bank Count as x and y values\n",
    "x_values = northern_hemisphere_df['latitude'].astype('float')\n",
    "y_values = northern_hemisphere_df['humidity'].astype('float')\n",
    "\n",
    "# Run linear regression\n",
    "(slope, intercept, rvalue, pvalue, stderr) = linregress(x_values, y_values)\n",
    "regress_values = x_values * slope + intercept\n",
    "line_eq = \"y = \" + str(round(slope,2)) + \"x + \" + str(round(intercept,2))\n",
    "\n",
    "# Plot scatter plot\n",
    "plt.scatter(x_values,y_values)\n",
    "\n",
    "# Plot regression line\n",
    "plt.plot(x_values,regress_values,\"r-\")\n",
    "plt.annotate(line_eq,(6,10),fontsize=15,color=\"red\")\n",
    "\n",
    "# Label plot\n",
    "plt.xlabel('Latitude')\n",
    "plt.ylabel('Humidity')\n",
    "plt.title('Northern Hemisphere - Humidity vs Latitude')\n",
    "\n",
    "# Print r square value\n",
    "print(f\"R squared: {rvalue**2}\")\n",
    "\n",
    "# Show plot\n",
    "plt.show()"
   ]
  },
  {
   "cell_type": "markdown",
   "metadata": {},
   "source": [
    "####  Southern Hemisphere - Humidity (%) vs. Latitude Linear Regression"
   ]
  },
  {
   "cell_type": "code",
   "execution_count": 81,
   "metadata": {},
   "outputs": [
    {
     "name": "stdout",
     "output_type": "stream",
     "text": [
      "R squared: 0.11162302567214322\n"
     ]
    },
    {
     "data": {
      "image/png": "[encoded data removed]",
      "text/plain": [
       "<Figure size 432x288 with 1 Axes>"
      ]
     },
     "metadata": {
      "needs_background": "light"
     },
     "output_type": "display_data"
    }
   ],
   "source": [
    "## Convert to floats and store Poverty Rate and Bank Count as x and y values\n",
    "x_values = southern_hemisphere_df['latitude'].astype('float')\n",
    "y_values = southern_hemisphere_df['humidity'].astype('float')\n",
    "\n",
    "# Run linear regression\n",
    "(slope, intercept, rvalue, pvalue, stderr) = linregress(x_values, y_values)\n",
    "regress_values = x_values * slope + intercept\n",
    "line_eq = \"y = \" + str(round(slope,2)) + \"x + \" + str(round(intercept,2))\n",
    "\n",
    "# Plot scatter plot\n",
    "plt.scatter(x_values,y_values)\n",
    "\n",
    "# Plot regression line\n",
    "plt.plot(x_values,regress_values,\"r-\")\n",
    "plt.annotate(line_eq,(6,10),fontsize=15,color=\"red\")\n",
    "\n",
    "# Label plot\n",
    "plt.xlabel('Latitude')\n",
    "plt.ylabel('Humidity (F)')\n",
    "plt.title('Southern Hemisphere - Humidity vs Latitude')\n",
    "\n",
    "# Print r square value\n",
    "print(f\"R squared: {rvalue**2}\")\n",
    "\n",
    "# Show plot\n",
    "plt.show()"
   ]
  },
  {
   "cell_type": "markdown",
   "metadata": {},
   "source": [
    "####  Northern Hemisphere - Cloudiness (%) vs. Latitude Linear Regression"
   ]
  },
  {
   "cell_type": "code",
   "execution_count": 82,
   "metadata": {},
   "outputs": [
    {
     "name": "stdout",
     "output_type": "stream",
     "text": [
      "R squared: 0.4140453875997535\n"
     ]
    },
    {
     "data": {
      "image/png": "[encoded data removed]",
      "text/plain": [
       "<Figure size 432x288 with 1 Axes>"
      ]
     },
     "metadata": {
      "needs_background": "light"
     },
     "output_type": "display_data"
    }
   ],
   "source": [
    "## Convert to floats and store Poverty Rate and Bank Count as x and y values\n",
    "x_values = northern_hemisphere_df['latitude'].astype('float')\n",
    "y_values = northern_hemisphere_df['cloudiness'].astype('float')\n",
    "\n",
    "# Run linear regression\n",
    "(slope, intercept, rvalue, pvalue, stderr) = linregress(x_values, y_values)\n",
    "regress_values = x_values * slope + intercept\n",
    "line_eq = \"y = \" + str(round(slope,2)) + \"x + \" + str(round(intercept,2))\n",
    "\n",
    "# Plot scatter plot\n",
    "plt.scatter(x_values,y_values)\n",
    "\n",
    "# Plot regression line\n",
    "plt.plot(x_values,regress_values,\"r-\")\n",
    "plt.annotate(line_eq,(6,10),fontsize=15,color=\"red\")\n",
    "\n",
    "# Label plot\n",
    "plt.xlabel('Latitude')\n",
    "plt.ylabel('Humidity')\n",
    "plt.title('Northern Hemisphere - Cloudiness vs Latitude')\n",
    "\n",
    "# Print r square value\n",
    "print(f\"R squared: {rvalue**2}\")\n",
    "\n",
    "# Show plot\n",
    "plt.show()"
   ]
  },
  {
   "cell_type": "markdown",
   "metadata": {},
   "source": [
    "####  Southern Hemisphere - Cloudiness (%) vs. Latitude Linear Regression"
   ]
  },
  {
   "cell_type": "code",
   "execution_count": 83,
   "metadata": {},
   "outputs": [
    {
     "name": "stdout",
     "output_type": "stream",
     "text": [
      "R squared: 0.06534823325182174\n"
     ]
    },
    {
     "data": {
      "image/png": "[encoded data removed]",
      "text/plain": [
       "<Figure size 432x288 with 1 Axes>"
      ]
     },
     "metadata": {
      "needs_background": "light"
     },
     "output_type": "display_data"
    }
   ],
   "source": [
    "## Convert to floats and store Poverty Rate and Bank Count as x and y values\n",
    "x_values = southern_hemisphere_df['latitude'].astype('float')\n",
    "y_values = southern_hemisphere_df['cloudiness'].astype('float')\n",
    "\n",
    "# Run linear regression\n",
    "(slope, intercept, rvalue, pvalue, stderr) = linregress(x_values, y_values)\n",
    "regress_values = x_values * slope + intercept\n",
    "line_eq = \"y = \" + str(round(slope,2)) + \"x + \" + str(round(intercept,2))\n",
    "\n",
    "# Plot scatter plot\n",
    "plt.scatter(x_values,y_values)\n",
    "\n",
    "# Plot regression line\n",
    "plt.plot(x_values,regress_values,\"r-\")\n",
    "plt.annotate(line_eq,(6,10),fontsize=15,color=\"red\")\n",
    "\n",
    "# Label plot\n",
    "plt.xlabel('Latitude')\n",
    "plt.ylabel('Cloudiness')\n",
    "plt.title('Southern Hemisphere - Cloudiness vs Latitude')\n",
    "\n",
    "# Print r square value\n",
    "print(f\"R squared: {rvalue**2}\")\n",
    "\n",
    "# Show plot\n",
    "plt.show()"
   ]
  },
  {
   "cell_type": "markdown",
   "metadata": {},
   "source": [
    "####  Northern Hemisphere - Wind Speed (mph) vs. Latitude Linear Regression"
   ]
  },
  {
   "cell_type": "code",
   "execution_count": 86,
   "metadata": {},
   "outputs": [
    {
     "name": "stdout",
     "output_type": "stream",
     "text": [
      "R squared: 0.4431551729379688\n"
     ]
    },
    {
     "data": {
      "image/png": "[encoded data removed]",
      "text/plain": [
       "<Figure size 432x288 with 1 Axes>"
      ]
     },
     "metadata": {
      "needs_background": "light"
     },
     "output_type": "display_data"
    }
   ],
   "source": [
    "## Convert to floats and store Poverty Rate and Bank Count as x and y values\n",
    "x_values = northern_hemisphere_df['latitude'].astype('float')\n",
    "y_values = northern_hemisphere_df['wind_speed'].astype('float')\n",
    "\n",
    "# Run linear regression\n",
    "(slope, intercept, rvalue, pvalue, stderr) = linregress(x_values, y_values)\n",
    "regress_values = x_values * slope + intercept\n",
    "line_eq = \"y = \" + str(round(slope,2)) + \"x + \" + str(round(intercept,2))\n",
    "\n",
    "# Plot scatter plot\n",
    "plt.scatter(x_values,y_values)\n",
    "\n",
    "# Plot regression line\n",
    "plt.plot(x_values,regress_values,\"r-\")\n",
    "plt.annotate(line_eq,(6,10),fontsize=15,color=\"red\")\n",
    "\n",
    "# Label plot\n",
    "plt.xlabel('Latitude')\n",
    "plt.ylabel('Wind Speed')\n",
    "plt.title('Northern Hemisphere - Wind Speed vs Latitude')\n",
    "\n",
    "# Print r square value\n",
    "print(f\"R squared: {rvalue**2}\")\n",
    "\n",
    "# Show plot\n",
    "plt.show()"
   ]
  },
  {
   "cell_type": "markdown",
   "metadata": {},
   "source": [
    "####  Southern Hemisphere - Wind Speed (mph) vs. Latitude Linear Regression"
   ]
  },
  {
   "cell_type": "code",
   "execution_count": 85,
   "metadata": {},
   "outputs": [
    {
     "name": "stdout",
     "output_type": "stream",
     "text": [
      "R squared: 0.00032368161740512776\n"
     ]
    },
    {
     "data": {
      "image/png": "[encoded data removed]",
      "text/plain": [
       "<Figure size 432x288 with 1 Axes>"
      ]
     },
     "metadata": {
      "needs_background": "light"
     },
     "output_type": "display_data"
    }
   ],
   "source": [
    "## Convert to floats and store Poverty Rate and Bank Count as x and y values\n",
    "x_values = southern_hemisphere_df['latitude'].astype('float')\n",
    "y_values = southern_hemisphere_df['wind_speed'].astype('float')\n",
    "\n",
    "# Run linear regression\n",
    "(slope, intercept, rvalue, pvalue, stderr) = linregress(x_values, y_values)\n",
    "regress_values = x_values * slope + intercept\n",
    "line_eq = \"y = \" + str(round(slope,2)) + \"x + \" + str(round(intercept,2))\n",
    "\n",
    "# Plot scatter plot\n",
    "plt.scatter(x_values,y_values)\n",
    "\n",
    "# Plot regression line\n",
    "plt.plot(x_values,regress_values,\"r-\")\n",
    "plt.annotate(line_eq,(6,10),fontsize=15,color=\"red\")\n",
    "\n",
    "# Label plot\n",
    "plt.xlabel('Latitude')\n",
    "plt.ylabel('Wind Speed')\n",
    "plt.title('Southern Hemisphere - Wind Speed vs Latitude')\n",
    "\n",
    "# Print r square value\n",
    "print(f\"R squared: {rvalue**2}\")\n",
    "\n",
    "# Show plot\n",
    "plt.show()"
   ]
  },
  {
   "cell_type": "code",
   "execution_count": null,
   "metadata": {},
   "outputs": [],
   "source": []
  }
 ],
 "metadata": {
  "anaconda-cloud": {},
  "kernel_info": {
   "name": "python3"
  },
  "kernelspec": {
   "display_name": "Python 3",
   "language": "python",
   "name": "python3"
  },
  "language_info": {
   "codemirror_mode": {
    "name": "ipython",
    "version": 3
   },
   "file_extension": ".py",
   "mimetype": "text/x-python",
   "name": "python",
   "nbconvert_exporter": "python",
   "pygments_lexer": "ipython3",
   "version": "3.6.12"
  },
  "latex_envs": {
   "LaTeX_envs_menu_present": true,
   "autoclose": false,
   "autocomplete": true,
   "bibliofile": "biblio.bib",
   "cite_by": "apalike",
   "current_citInitial": 1,
   "eqLabelWithNumbers": true,
   "eqNumInitial": 1,
   "hotkeys": {
    "equation": "Ctrl-E",
    "itemize": "Ctrl-I"
   },
   "labels_anchors": false,
   "latex_user_defs": false,
   "report_style_numbering": false,
   "user_envs_cfg": false
  },
  "nteract": {
   "version": "0.12.3"
  }
 },
 "nbformat": 4,
 "nbformat_minor": 2
}
